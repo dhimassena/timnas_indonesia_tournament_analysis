{
 "cells": [
  {
   "cell_type": "markdown",
   "id": "71532b55-a06b-4b73-adbc-7a46b2614fc7",
   "metadata": {},
   "source": [
    "- **Nama:** [Dhimas Sena Rahmantara]\n",
    "- **Email:** [dhimassr@gmail.com]"
   ]
  },
  {
   "cell_type": "code",
   "execution_count": 1,
   "id": "0b4a77fb-1379-4e77-8b07-72cbeda6e45c",
   "metadata": {},
   "outputs": [],
   "source": [
    "import os\n",
    "import math\n",
    "import pandas as pd\n",
    "import numpy as np\n",
    "import matplotlib.pyplot as plt\n",
    "import seaborn as sns\n",
    "import datetime"
   ]
  },
  {
   "cell_type": "code",
   "execution_count": 14,
   "id": "55599bcf-171f-424f-933c-a5984b13de4a",
   "metadata": {},
   "outputs": [
    {
     "data": {
      "text/plain": [
       "['.ipynb_checkpoints',\n",
       " 'football.ipynb',\n",
       " 'goalscorers.csv',\n",
       " 'results.csv',\n",
       " 'shootouts.csv']"
      ]
     },
     "execution_count": 14,
     "metadata": {},
     "output_type": "execute_result"
    }
   ],
   "source": [
    "os.listdir()"
   ]
  },
  {
   "cell_type": "code",
   "execution_count": 3,
   "id": "68ffe89b-c302-4471-8335-c8a96585336c",
   "metadata": {},
   "outputs": [
    {
     "data": {
      "text/html": [
       "<div>\n",
       "<style scoped>\n",
       "    .dataframe tbody tr th:only-of-type {\n",
       "        vertical-align: middle;\n",
       "    }\n",
       "\n",
       "    .dataframe tbody tr th {\n",
       "        vertical-align: top;\n",
       "    }\n",
       "\n",
       "    .dataframe thead th {\n",
       "        text-align: right;\n",
       "    }\n",
       "</style>\n",
       "<table border=\"1\" class=\"dataframe\">\n",
       "  <thead>\n",
       "    <tr style=\"text-align: right;\">\n",
       "      <th></th>\n",
       "      <th>date</th>\n",
       "      <th>home_team</th>\n",
       "      <th>away_team</th>\n",
       "      <th>home_score</th>\n",
       "      <th>away_score</th>\n",
       "      <th>tournament</th>\n",
       "      <th>city</th>\n",
       "      <th>country</th>\n",
       "      <th>neutral</th>\n",
       "    </tr>\n",
       "  </thead>\n",
       "  <tbody>\n",
       "    <tr>\n",
       "      <th>0</th>\n",
       "      <td>1872-11-30</td>\n",
       "      <td>Scotland</td>\n",
       "      <td>England</td>\n",
       "      <td>0</td>\n",
       "      <td>0</td>\n",
       "      <td>Friendly</td>\n",
       "      <td>Glasgow</td>\n",
       "      <td>Scotland</td>\n",
       "      <td>False</td>\n",
       "    </tr>\n",
       "    <tr>\n",
       "      <th>1</th>\n",
       "      <td>1873-03-08</td>\n",
       "      <td>England</td>\n",
       "      <td>Scotland</td>\n",
       "      <td>4</td>\n",
       "      <td>2</td>\n",
       "      <td>Friendly</td>\n",
       "      <td>London</td>\n",
       "      <td>England</td>\n",
       "      <td>False</td>\n",
       "    </tr>\n",
       "    <tr>\n",
       "      <th>2</th>\n",
       "      <td>1874-03-07</td>\n",
       "      <td>Scotland</td>\n",
       "      <td>England</td>\n",
       "      <td>2</td>\n",
       "      <td>1</td>\n",
       "      <td>Friendly</td>\n",
       "      <td>Glasgow</td>\n",
       "      <td>Scotland</td>\n",
       "      <td>False</td>\n",
       "    </tr>\n",
       "    <tr>\n",
       "      <th>3</th>\n",
       "      <td>1875-03-06</td>\n",
       "      <td>England</td>\n",
       "      <td>Scotland</td>\n",
       "      <td>2</td>\n",
       "      <td>2</td>\n",
       "      <td>Friendly</td>\n",
       "      <td>London</td>\n",
       "      <td>England</td>\n",
       "      <td>False</td>\n",
       "    </tr>\n",
       "    <tr>\n",
       "      <th>4</th>\n",
       "      <td>1876-03-04</td>\n",
       "      <td>Scotland</td>\n",
       "      <td>England</td>\n",
       "      <td>3</td>\n",
       "      <td>0</td>\n",
       "      <td>Friendly</td>\n",
       "      <td>Glasgow</td>\n",
       "      <td>Scotland</td>\n",
       "      <td>False</td>\n",
       "    </tr>\n",
       "    <tr>\n",
       "      <th>...</th>\n",
       "      <td>...</td>\n",
       "      <td>...</td>\n",
       "      <td>...</td>\n",
       "      <td>...</td>\n",
       "      <td>...</td>\n",
       "      <td>...</td>\n",
       "      <td>...</td>\n",
       "      <td>...</td>\n",
       "      <td>...</td>\n",
       "    </tr>\n",
       "    <tr>\n",
       "      <th>47912</th>\n",
       "      <td>2024-11-19</td>\n",
       "      <td>Oman</td>\n",
       "      <td>Iraq</td>\n",
       "      <td>0</td>\n",
       "      <td>1</td>\n",
       "      <td>FIFA World Cup qualification</td>\n",
       "      <td>Muscat</td>\n",
       "      <td>Oman</td>\n",
       "      <td>False</td>\n",
       "    </tr>\n",
       "    <tr>\n",
       "      <th>47913</th>\n",
       "      <td>2024-11-19</td>\n",
       "      <td>Kuwait</td>\n",
       "      <td>Jordan</td>\n",
       "      <td>1</td>\n",
       "      <td>1</td>\n",
       "      <td>FIFA World Cup qualification</td>\n",
       "      <td>Kuwait City</td>\n",
       "      <td>Kuwait</td>\n",
       "      <td>False</td>\n",
       "    </tr>\n",
       "    <tr>\n",
       "      <th>47914</th>\n",
       "      <td>2024-11-19</td>\n",
       "      <td>Bahrain</td>\n",
       "      <td>Australia</td>\n",
       "      <td>2</td>\n",
       "      <td>2</td>\n",
       "      <td>FIFA World Cup qualification</td>\n",
       "      <td>Riffa</td>\n",
       "      <td>Bahrain</td>\n",
       "      <td>False</td>\n",
       "    </tr>\n",
       "    <tr>\n",
       "      <th>47915</th>\n",
       "      <td>2024-11-19</td>\n",
       "      <td>Indonesia</td>\n",
       "      <td>Saudi Arabia</td>\n",
       "      <td>2</td>\n",
       "      <td>0</td>\n",
       "      <td>FIFA World Cup qualification</td>\n",
       "      <td>Jakarta</td>\n",
       "      <td>Indonesia</td>\n",
       "      <td>False</td>\n",
       "    </tr>\n",
       "    <tr>\n",
       "      <th>47916</th>\n",
       "      <td>2024-11-19</td>\n",
       "      <td>China PR</td>\n",
       "      <td>Japan</td>\n",
       "      <td>1</td>\n",
       "      <td>3</td>\n",
       "      <td>FIFA World Cup qualification</td>\n",
       "      <td>Xiamen</td>\n",
       "      <td>China PR</td>\n",
       "      <td>False</td>\n",
       "    </tr>\n",
       "  </tbody>\n",
       "</table>\n",
       "<p>47917 rows × 9 columns</p>\n",
       "</div>"
      ],
      "text/plain": [
       "             date  home_team     away_team  home_score  away_score  \\\n",
       "0      1872-11-30   Scotland       England           0           0   \n",
       "1      1873-03-08    England      Scotland           4           2   \n",
       "2      1874-03-07   Scotland       England           2           1   \n",
       "3      1875-03-06    England      Scotland           2           2   \n",
       "4      1876-03-04   Scotland       England           3           0   \n",
       "...           ...        ...           ...         ...         ...   \n",
       "47912  2024-11-19       Oman          Iraq           0           1   \n",
       "47913  2024-11-19     Kuwait        Jordan           1           1   \n",
       "47914  2024-11-19    Bahrain     Australia           2           2   \n",
       "47915  2024-11-19  Indonesia  Saudi Arabia           2           0   \n",
       "47916  2024-11-19   China PR         Japan           1           3   \n",
       "\n",
       "                         tournament         city    country  neutral  \n",
       "0                          Friendly      Glasgow   Scotland    False  \n",
       "1                          Friendly       London    England    False  \n",
       "2                          Friendly      Glasgow   Scotland    False  \n",
       "3                          Friendly       London    England    False  \n",
       "4                          Friendly      Glasgow   Scotland    False  \n",
       "...                             ...          ...        ...      ...  \n",
       "47912  FIFA World Cup qualification       Muscat       Oman    False  \n",
       "47913  FIFA World Cup qualification  Kuwait City     Kuwait    False  \n",
       "47914  FIFA World Cup qualification        Riffa    Bahrain    False  \n",
       "47915  FIFA World Cup qualification      Jakarta  Indonesia    False  \n",
       "47916  FIFA World Cup qualification       Xiamen   China PR    False  \n",
       "\n",
       "[47917 rows x 9 columns]"
      ]
     },
     "execution_count": 3,
     "metadata": {},
     "output_type": "execute_result"
    }
   ],
   "source": [
    "results_df = pd.read_csv(\"results.csv\")\n",
    "results_df"
   ]
  },
  {
   "cell_type": "code",
   "execution_count": 20,
   "id": "d99a5faa-48b1-406e-860d-cd878848f538",
   "metadata": {},
   "outputs": [
    {
     "name": "stdout",
     "output_type": "stream",
     "text": [
      "<class 'pandas.core.frame.DataFrame'>\n",
      "RangeIndex: 47917 entries, 0 to 47916\n",
      "Data columns (total 9 columns):\n",
      " #   Column      Non-Null Count  Dtype \n",
      "---  ------      --------------  ----- \n",
      " 0   date        47917 non-null  object\n",
      " 1   home_team   47917 non-null  object\n",
      " 2   away_team   47917 non-null  object\n",
      " 3   home_score  47917 non-null  int64 \n",
      " 4   away_score  47917 non-null  int64 \n",
      " 5   tournament  47917 non-null  object\n",
      " 6   city        47917 non-null  object\n",
      " 7   country     47917 non-null  object\n",
      " 8   neutral     47917 non-null  bool  \n",
      "dtypes: bool(1), int64(2), object(6)\n",
      "memory usage: 3.0+ MB\n"
     ]
    }
   ],
   "source": [
    "results_df.info()"
   ]
  },
  {
   "cell_type": "code",
   "execution_count": 22,
   "id": "b909ea57-b613-43d6-a1c9-264cd165a9e4",
   "metadata": {},
   "outputs": [
    {
     "data": {
      "text/plain": [
       "date          0\n",
       "home_team     0\n",
       "away_team     0\n",
       "home_score    0\n",
       "away_score    0\n",
       "tournament    0\n",
       "city          0\n",
       "country       0\n",
       "neutral       0\n",
       "dtype: int64"
      ]
     },
     "execution_count": 22,
     "metadata": {},
     "output_type": "execute_result"
    }
   ],
   "source": [
    "results_df.isnull().sum()"
   ]
  },
  {
   "cell_type": "code",
   "execution_count": 24,
   "id": "5bd75058-fcf5-49fc-8b63-9850ce08119b",
   "metadata": {},
   "outputs": [
    {
     "data": {
      "text/plain": [
       "0"
      ]
     },
     "execution_count": 24,
     "metadata": {},
     "output_type": "execute_result"
    }
   ],
   "source": [
    "results_df.duplicated().sum()"
   ]
  },
  {
   "cell_type": "code",
   "execution_count": 54,
   "id": "a09df0e2-c593-47fb-a479-33c86b4baccc",
   "metadata": {},
   "outputs": [
    {
     "data": {
      "text/plain": [
       "(47917, 9)"
      ]
     },
     "execution_count": 54,
     "metadata": {},
     "output_type": "execute_result"
    }
   ],
   "source": [
    "results_df.shape"
   ]
  },
  {
   "cell_type": "code",
   "execution_count": 33,
   "id": "9d285831-f427-401d-9110-96f35a134151",
   "metadata": {},
   "outputs": [
    {
     "data": {
      "text/plain": [
       "Index(['date', 'home_team', 'away_team', 'home_score', 'away_score',\n",
       "       'tournament', 'city', 'country', 'neutral'],\n",
       "      dtype='object')"
      ]
     },
     "execution_count": 33,
     "metadata": {},
     "output_type": "execute_result"
    }
   ],
   "source": [
    "results_df.columns"
   ]
  },
  {
   "cell_type": "code",
   "execution_count": 48,
   "id": "0307edf5-1bf5-408f-af9c-5f3f9a9da2b7",
   "metadata": {},
   "outputs": [
    {
     "data": {
      "text/html": [
       "<div>\n",
       "<style scoped>\n",
       "    .dataframe tbody tr th:only-of-type {\n",
       "        vertical-align: middle;\n",
       "    }\n",
       "\n",
       "    .dataframe tbody tr th {\n",
       "        vertical-align: top;\n",
       "    }\n",
       "\n",
       "    .dataframe thead th {\n",
       "        text-align: right;\n",
       "    }\n",
       "</style>\n",
       "<table border=\"1\" class=\"dataframe\">\n",
       "  <thead>\n",
       "    <tr style=\"text-align: right;\">\n",
       "      <th></th>\n",
       "      <th>count</th>\n",
       "      <th>mean</th>\n",
       "      <th>std</th>\n",
       "      <th>min</th>\n",
       "      <th>25%</th>\n",
       "      <th>50%</th>\n",
       "      <th>75%</th>\n",
       "      <th>max</th>\n",
       "    </tr>\n",
       "  </thead>\n",
       "  <tbody>\n",
       "    <tr>\n",
       "      <th>home_score</th>\n",
       "      <td>47917.0</td>\n",
       "      <td>1.757873</td>\n",
       "      <td>1.772538</td>\n",
       "      <td>0.0</td>\n",
       "      <td>1.0</td>\n",
       "      <td>1.0</td>\n",
       "      <td>2.0</td>\n",
       "      <td>31.0</td>\n",
       "    </tr>\n",
       "    <tr>\n",
       "      <th>away_score</th>\n",
       "      <td>47917.0</td>\n",
       "      <td>1.181752</td>\n",
       "      <td>1.399573</td>\n",
       "      <td>0.0</td>\n",
       "      <td>0.0</td>\n",
       "      <td>1.0</td>\n",
       "      <td>2.0</td>\n",
       "      <td>21.0</td>\n",
       "    </tr>\n",
       "  </tbody>\n",
       "</table>\n",
       "</div>"
      ],
      "text/plain": [
       "              count      mean       std  min  25%  50%  75%   max\n",
       "home_score  47917.0  1.757873  1.772538  0.0  1.0  1.0  2.0  31.0\n",
       "away_score  47917.0  1.181752  1.399573  0.0  0.0  1.0  2.0  21.0"
      ]
     },
     "execution_count": 48,
     "metadata": {},
     "output_type": "execute_result"
    }
   ],
   "source": [
    "results_df.describe().T"
   ]
  },
  {
   "cell_type": "code",
   "execution_count": 149,
   "id": "92f405e6-6f40-4a5c-aacc-42893594805a",
   "metadata": {},
   "outputs": [
    {
     "data": {
      "text/plain": [
       "176"
      ]
     },
     "execution_count": 149,
     "metadata": {},
     "output_type": "execute_result"
    }
   ],
   "source": [
    "len(np.unique(results_df[\"tournament\"]))"
   ]
  },
  {
   "cell_type": "code",
   "execution_count": 147,
   "id": "84af1240-c530-461c-9afd-4546ab0a0823",
   "metadata": {},
   "outputs": [
    {
     "data": {
      "text/plain": [
       "321"
      ]
     },
     "execution_count": 147,
     "metadata": {},
     "output_type": "execute_result"
    }
   ],
   "source": [
    "len(np.unique(results_df[\"away_team\"]))"
   ]
  },
  {
   "cell_type": "code",
   "execution_count": 5,
   "id": "1e821d18-7144-4202-90ea-af8ccbbd775d",
   "metadata": {},
   "outputs": [
    {
     "name": "stdout",
     "output_type": "stream",
     "text": [
      "<class 'pandas.core.frame.DataFrame'>\n",
      "RangeIndex: 47917 entries, 0 to 47916\n",
      "Data columns (total 9 columns):\n",
      " #   Column      Non-Null Count  Dtype         \n",
      "---  ------      --------------  -----         \n",
      " 0   date        47917 non-null  datetime64[ns]\n",
      " 1   home_team   47917 non-null  object        \n",
      " 2   away_team   47917 non-null  object        \n",
      " 3   home_score  47917 non-null  int64         \n",
      " 4   away_score  47917 non-null  int64         \n",
      " 5   tournament  47917 non-null  object        \n",
      " 6   city        47917 non-null  object        \n",
      " 7   country     47917 non-null  object        \n",
      " 8   neutral     47917 non-null  bool          \n",
      "dtypes: bool(1), datetime64[ns](1), int64(2), object(5)\n",
      "memory usage: 3.0+ MB\n"
     ]
    }
   ],
   "source": [
    "results_df[\"date\"] = pd.to_datetime(results_df[\"date\"])\n",
    "results_df.info()"
   ]
  },
  {
   "cell_type": "code",
   "execution_count": 88,
   "id": "64e47dff-42e9-4798-97ad-fbfb10be42fe",
   "metadata": {},
   "outputs": [
    {
     "data": {
      "text/plain": [
       "array([ 0,  1,  2,  3,  4,  5,  6,  7,  8,  9, 10, 11, 12, 13, 14, 15, 16,\n",
       "       17, 18, 19, 20, 21, 22, 24, 30, 31], dtype=int64)"
      ]
     },
     "execution_count": 88,
     "metadata": {},
     "output_type": "execute_result"
    }
   ],
   "source": [
    "np.unique(results_df[\"home_score\"])"
   ]
  },
  {
   "cell_type": "code",
   "execution_count": 90,
   "id": "bcc209c7-559b-409e-b228-fd2d509e15fd",
   "metadata": {},
   "outputs": [
    {
     "data": {
      "text/plain": [
       "array([ 0,  1,  2,  3,  4,  5,  6,  7,  8,  9, 10, 11, 12, 13, 14, 15, 16,\n",
       "       17, 18, 19, 20, 21], dtype=int64)"
      ]
     },
     "execution_count": 90,
     "metadata": {},
     "output_type": "execute_result"
    }
   ],
   "source": [
    "np.unique(results_df[\"away_score\"])"
   ]
  },
  {
   "cell_type": "code",
   "execution_count": 7,
   "id": "0c98e593-b1f2-49fe-ae42-634f7aeefcc1",
   "metadata": {},
   "outputs": [
    {
     "data": {
      "text/html": [
       "<div>\n",
       "<style scoped>\n",
       "    .dataframe tbody tr th:only-of-type {\n",
       "        vertical-align: middle;\n",
       "    }\n",
       "\n",
       "    .dataframe tbody tr th {\n",
       "        vertical-align: top;\n",
       "    }\n",
       "\n",
       "    .dataframe thead th {\n",
       "        text-align: right;\n",
       "    }\n",
       "</style>\n",
       "<table border=\"1\" class=\"dataframe\">\n",
       "  <thead>\n",
       "    <tr style=\"text-align: right;\">\n",
       "      <th></th>\n",
       "      <th>date</th>\n",
       "      <th>home_team</th>\n",
       "      <th>away_team</th>\n",
       "      <th>home_score</th>\n",
       "      <th>away_score</th>\n",
       "      <th>tournament</th>\n",
       "      <th>city</th>\n",
       "      <th>country</th>\n",
       "      <th>neutral</th>\n",
       "    </tr>\n",
       "  </thead>\n",
       "  <tbody>\n",
       "    <tr>\n",
       "      <th>1823</th>\n",
       "      <td>1934-05-13</td>\n",
       "      <td>Japan</td>\n",
       "      <td>Indonesia</td>\n",
       "      <td>1</td>\n",
       "      <td>7</td>\n",
       "      <td>Far Eastern Championship Games</td>\n",
       "      <td>Manila</td>\n",
       "      <td>Philippines</td>\n",
       "      <td>True</td>\n",
       "    </tr>\n",
       "    <tr>\n",
       "      <th>1822</th>\n",
       "      <td>1934-05-13</td>\n",
       "      <td>Japan</td>\n",
       "      <td>Indonesia</td>\n",
       "      <td>1</td>\n",
       "      <td>7</td>\n",
       "      <td>Friendly</td>\n",
       "      <td>Manila</td>\n",
       "      <td>Philippines</td>\n",
       "      <td>True</td>\n",
       "    </tr>\n",
       "    <tr>\n",
       "      <th>1824</th>\n",
       "      <td>1934-05-14</td>\n",
       "      <td>China PR</td>\n",
       "      <td>Indonesia</td>\n",
       "      <td>2</td>\n",
       "      <td>0</td>\n",
       "      <td>Friendly</td>\n",
       "      <td>Manila</td>\n",
       "      <td>Philippines</td>\n",
       "      <td>True</td>\n",
       "    </tr>\n",
       "    <tr>\n",
       "      <th>1825</th>\n",
       "      <td>1934-05-14</td>\n",
       "      <td>China PR</td>\n",
       "      <td>Indonesia</td>\n",
       "      <td>2</td>\n",
       "      <td>0</td>\n",
       "      <td>Far Eastern Championship Games</td>\n",
       "      <td>Manila</td>\n",
       "      <td>Philippines</td>\n",
       "      <td>True</td>\n",
       "    </tr>\n",
       "    <tr>\n",
       "      <th>1828</th>\n",
       "      <td>1934-05-19</td>\n",
       "      <td>Philippines</td>\n",
       "      <td>Indonesia</td>\n",
       "      <td>3</td>\n",
       "      <td>2</td>\n",
       "      <td>Friendly</td>\n",
       "      <td>Manila</td>\n",
       "      <td>Philippines</td>\n",
       "      <td>False</td>\n",
       "    </tr>\n",
       "    <tr>\n",
       "      <th>...</th>\n",
       "      <td>...</td>\n",
       "      <td>...</td>\n",
       "      <td>...</td>\n",
       "      <td>...</td>\n",
       "      <td>...</td>\n",
       "      <td>...</td>\n",
       "      <td>...</td>\n",
       "      <td>...</td>\n",
       "      <td>...</td>\n",
       "    </tr>\n",
       "    <tr>\n",
       "      <th>47596</th>\n",
       "      <td>2024-09-10</td>\n",
       "      <td>Indonesia</td>\n",
       "      <td>Australia</td>\n",
       "      <td>0</td>\n",
       "      <td>0</td>\n",
       "      <td>FIFA World Cup qualification</td>\n",
       "      <td>Jakarta</td>\n",
       "      <td>Indonesia</td>\n",
       "      <td>False</td>\n",
       "    </tr>\n",
       "    <tr>\n",
       "      <th>47636</th>\n",
       "      <td>2024-10-10</td>\n",
       "      <td>Bahrain</td>\n",
       "      <td>Indonesia</td>\n",
       "      <td>2</td>\n",
       "      <td>2</td>\n",
       "      <td>FIFA World Cup qualification</td>\n",
       "      <td>Riffa</td>\n",
       "      <td>Bahrain</td>\n",
       "      <td>False</td>\n",
       "    </tr>\n",
       "    <tr>\n",
       "      <th>47775</th>\n",
       "      <td>2024-10-15</td>\n",
       "      <td>China PR</td>\n",
       "      <td>Indonesia</td>\n",
       "      <td>2</td>\n",
       "      <td>1</td>\n",
       "      <td>FIFA World Cup qualification</td>\n",
       "      <td>Qingdao</td>\n",
       "      <td>China PR</td>\n",
       "      <td>False</td>\n",
       "    </tr>\n",
       "    <tr>\n",
       "      <th>47832</th>\n",
       "      <td>2024-11-15</td>\n",
       "      <td>Indonesia</td>\n",
       "      <td>Japan</td>\n",
       "      <td>0</td>\n",
       "      <td>4</td>\n",
       "      <td>FIFA World Cup qualification</td>\n",
       "      <td>Jakarta</td>\n",
       "      <td>Indonesia</td>\n",
       "      <td>False</td>\n",
       "    </tr>\n",
       "    <tr>\n",
       "      <th>47915</th>\n",
       "      <td>2024-11-19</td>\n",
       "      <td>Indonesia</td>\n",
       "      <td>Saudi Arabia</td>\n",
       "      <td>2</td>\n",
       "      <td>0</td>\n",
       "      <td>FIFA World Cup qualification</td>\n",
       "      <td>Jakarta</td>\n",
       "      <td>Indonesia</td>\n",
       "      <td>False</td>\n",
       "    </tr>\n",
       "  </tbody>\n",
       "</table>\n",
       "<p>712 rows × 9 columns</p>\n",
       "</div>"
      ],
      "text/plain": [
       "            date    home_team     away_team  home_score  away_score  \\\n",
       "1823  1934-05-13        Japan     Indonesia           1           7   \n",
       "1822  1934-05-13        Japan     Indonesia           1           7   \n",
       "1824  1934-05-14     China PR     Indonesia           2           0   \n",
       "1825  1934-05-14     China PR     Indonesia           2           0   \n",
       "1828  1934-05-19  Philippines     Indonesia           3           2   \n",
       "...          ...          ...           ...         ...         ...   \n",
       "47596 2024-09-10    Indonesia     Australia           0           0   \n",
       "47636 2024-10-10      Bahrain     Indonesia           2           2   \n",
       "47775 2024-10-15     China PR     Indonesia           2           1   \n",
       "47832 2024-11-15    Indonesia         Japan           0           4   \n",
       "47915 2024-11-19    Indonesia  Saudi Arabia           2           0   \n",
       "\n",
       "                           tournament     city      country  neutral  \n",
       "1823   Far Eastern Championship Games   Manila  Philippines     True  \n",
       "1822                         Friendly   Manila  Philippines     True  \n",
       "1824                         Friendly   Manila  Philippines     True  \n",
       "1825   Far Eastern Championship Games   Manila  Philippines     True  \n",
       "1828                         Friendly   Manila  Philippines    False  \n",
       "...                               ...      ...          ...      ...  \n",
       "47596    FIFA World Cup qualification  Jakarta    Indonesia    False  \n",
       "47636    FIFA World Cup qualification    Riffa      Bahrain    False  \n",
       "47775    FIFA World Cup qualification  Qingdao     China PR    False  \n",
       "47832    FIFA World Cup qualification  Jakarta    Indonesia    False  \n",
       "47915    FIFA World Cup qualification  Jakarta    Indonesia    False  \n",
       "\n",
       "[712 rows x 9 columns]"
      ]
     },
     "execution_count": 7,
     "metadata": {},
     "output_type": "execute_result"
    }
   ],
   "source": [
    "ina_home_df = results_df[results_df[\"home_team\"] == \"Indonesia\"]\n",
    "ina_away_df = results_df[results_df[\"away_team\"] == \"Indonesia\"]\n",
    "# print(ina_home_df)\n",
    "# print(ina_away_df)\n",
    "ina = [ina_home_df, ina_away_df]\n",
    "ina_df = pd.concat(ina).sort_values(by=\"date\")\n",
    "ina_df"
   ]
  },
  {
   "cell_type": "code",
   "execution_count": 9,
   "id": "71d0abd2-7155-476f-9d4c-aa02237586ac",
   "metadata": {},
   "outputs": [
    {
     "data": {
      "text/plain": [
       "207"
      ]
     },
     "execution_count": 9,
     "metadata": {},
     "output_type": "execute_result"
    }
   ],
   "source": [
    "ina_home_win = ina_home_df[ina_home_df[\"home_score\"] > ina_home_df[\"away_score\"]]\n",
    "ina_home_win[\"date\"].count()"
   ]
  },
  {
   "cell_type": "code",
   "execution_count": 11,
   "id": "3bb7f07b-e28b-4f50-a61a-a9b7c7c58b72",
   "metadata": {},
   "outputs": [
    {
     "data": {
      "text/plain": [
       "130"
      ]
     },
     "execution_count": 11,
     "metadata": {},
     "output_type": "execute_result"
    }
   ],
   "source": [
    "ina_home_lose = ina_home_df[ina_home_df[\"home_score\"] < ina_home_df[\"away_score\"]]\n",
    "ina_home_lose[\"date\"].count()"
   ]
  },
  {
   "cell_type": "code",
   "execution_count": 13,
   "id": "69b3b096-2b85-4b40-8234-88142741971f",
   "metadata": {},
   "outputs": [
    {
     "data": {
      "text/plain": [
       "68"
      ]
     },
     "execution_count": 13,
     "metadata": {},
     "output_type": "execute_result"
    }
   ],
   "source": [
    "ina_away_win = ina_away_df[ina_away_df[\"away_score\"] > ina_away_df[\"home_score\"]]\n",
    "ina_away_win[\"date\"].count()"
   ]
  },
  {
   "cell_type": "code",
   "execution_count": 15,
   "id": "6556439c-b8da-4421-b871-f4bc459ce5fe",
   "metadata": {},
   "outputs": [
    {
     "data": {
      "text/plain": [
       "167"
      ]
     },
     "execution_count": 15,
     "metadata": {},
     "output_type": "execute_result"
    }
   ],
   "source": [
    "ina_away_lose = ina_away_df[ina_away_df[\"away_score\"] < ina_away_df[\"home_score\"]]\n",
    "ina_away_lose[\"date\"].count()"
   ]
  },
  {
   "cell_type": "code",
   "execution_count": 17,
   "id": "f6894c4a-5ea7-43ad-9814-79f0dbc7290e",
   "metadata": {},
   "outputs": [
    {
     "data": {
      "text/plain": [
       "140"
      ]
     },
     "execution_count": 17,
     "metadata": {},
     "output_type": "execute_result"
    }
   ],
   "source": [
    "ina_draw = ina_df[ina_df[\"home_score\"] == ina_df[\"away_score\"]]\n",
    "ina_draw[\"date\"].count()"
   ]
  },
  {
   "cell_type": "code",
   "execution_count": 21,
   "id": "a22d6b8a-58cf-4152-8de7-1fb0b9e7779f",
   "metadata": {},
   "outputs": [
    {
     "name": "stdout",
     "output_type": "stream",
     "text": [
      "29.07303273677826\n",
      "18.25842708349228\n",
      "9.550561755895615\n",
      "23.45505654811859\n",
      "19.662921130657196\n"
     ]
    },
    {
     "data": {
      "image/png": "[encoded data removed]",
      "text/plain": [
       "<Figure size 640x480 with 1 Axes>"
      ]
     },
     "metadata": {},
     "output_type": "display_data"
    }
   ],
   "source": [
    "ina_matches = [ina_home_win[\"date\"].count(), ina_home_lose[\"date\"].count(),\n",
    "               ina_away_win[\"date\"].count(), ina_away_lose[\"date\"].count(),\n",
    "              ina_draw[\"date\"].count()]\n",
    "labels = [\"Menang Kandang\", \"Kalah Kandang\", \"Menang Tandang\", \"Kalah Tandang\", \"Imbang\"]\n",
    "def fmt(x):\n",
    "    print(x)\n",
    "    return '{:.1f}%\\n{:.0f}'.format(x, sum(ina_matches)*x/100)\n",
    "\n",
    "plt.pie(ina_matches, labels=labels, autopct=fmt)\n",
    "plt.title(\"Persentase Menang-Kalah Timnas Sepakbola Indonesia Keseluruhan\")\n",
    "plt.show()"
   ]
  },
  {
   "cell_type": "code",
   "execution_count": 167,
   "id": "c470162c-aae1-41e4-a49c-a64aca0e16a1",
   "metadata": {},
   "outputs": [
    {
     "data": {
      "text/plain": [
       "176"
      ]
     },
     "execution_count": 167,
     "metadata": {},
     "output_type": "execute_result"
    }
   ],
   "source": [
    "len(np.unique(results_df[\"tournament\"]))"
   ]
  },
  {
   "cell_type": "code",
   "execution_count": 23,
   "id": "3b58b0d6-95e3-4721-9426-b3c41bc96af9",
   "metadata": {},
   "outputs": [
    {
     "data": {
      "text/html": [
       "<div>\n",
       "<style scoped>\n",
       "    .dataframe tbody tr th:only-of-type {\n",
       "        vertical-align: middle;\n",
       "    }\n",
       "\n",
       "    .dataframe tbody tr th {\n",
       "        vertical-align: top;\n",
       "    }\n",
       "\n",
       "    .dataframe thead th {\n",
       "        text-align: right;\n",
       "    }\n",
       "</style>\n",
       "<table border=\"1\" class=\"dataframe\">\n",
       "  <thead>\n",
       "    <tr style=\"text-align: right;\">\n",
       "      <th></th>\n",
       "      <th>tournament</th>\n",
       "      <th>date</th>\n",
       "    </tr>\n",
       "  </thead>\n",
       "  <tbody>\n",
       "    <tr>\n",
       "      <th>0</th>\n",
       "      <td>Friendly</td>\n",
       "      <td>177</td>\n",
       "    </tr>\n",
       "    <tr>\n",
       "      <th>1</th>\n",
       "      <td>Merdeka Tournament</td>\n",
       "      <td>105</td>\n",
       "    </tr>\n",
       "    <tr>\n",
       "      <th>2</th>\n",
       "      <td>FIFA World Cup qualification</td>\n",
       "      <td>93</td>\n",
       "    </tr>\n",
       "    <tr>\n",
       "      <th>3</th>\n",
       "      <td>AFF Championship</td>\n",
       "      <td>75</td>\n",
       "    </tr>\n",
       "    <tr>\n",
       "      <th>4</th>\n",
       "      <td>Southeast Asian Games</td>\n",
       "      <td>56</td>\n",
       "    </tr>\n",
       "    <tr>\n",
       "      <th>5</th>\n",
       "      <td>AFC Asian Cup qualification</td>\n",
       "      <td>53</td>\n",
       "    </tr>\n",
       "    <tr>\n",
       "      <th>6</th>\n",
       "      <td>Indonesia Tournament</td>\n",
       "      <td>33</td>\n",
       "    </tr>\n",
       "    <tr>\n",
       "      <th>7</th>\n",
       "      <td>King's Cup</td>\n",
       "      <td>31</td>\n",
       "    </tr>\n",
       "    <tr>\n",
       "      <th>8</th>\n",
       "      <td>Asian Games</td>\n",
       "      <td>29</td>\n",
       "    </tr>\n",
       "    <tr>\n",
       "      <th>9</th>\n",
       "      <td>Korea Cup</td>\n",
       "      <td>25</td>\n",
       "    </tr>\n",
       "    <tr>\n",
       "      <th>10</th>\n",
       "      <td>AFC Asian Cup</td>\n",
       "      <td>16</td>\n",
       "    </tr>\n",
       "    <tr>\n",
       "      <th>11</th>\n",
       "      <td>Vietnam Independence Cup</td>\n",
       "      <td>9</td>\n",
       "    </tr>\n",
       "    <tr>\n",
       "      <th>12</th>\n",
       "      <td>Far Eastern Championship Games</td>\n",
       "      <td>3</td>\n",
       "    </tr>\n",
       "    <tr>\n",
       "      <th>13</th>\n",
       "      <td>Dunhill Cup</td>\n",
       "      <td>3</td>\n",
       "    </tr>\n",
       "    <tr>\n",
       "      <th>14</th>\n",
       "      <td>Merlion Cup</td>\n",
       "      <td>2</td>\n",
       "    </tr>\n",
       "    <tr>\n",
       "      <th>15</th>\n",
       "      <td>Kirin Cup</td>\n",
       "      <td>1</td>\n",
       "    </tr>\n",
       "    <tr>\n",
       "      <th>16</th>\n",
       "      <td>FIFA World Cup</td>\n",
       "      <td>1</td>\n",
       "    </tr>\n",
       "  </tbody>\n",
       "</table>\n",
       "</div>"
      ],
      "text/plain": [
       "                        tournament  date\n",
       "0                         Friendly   177\n",
       "1               Merdeka Tournament   105\n",
       "2     FIFA World Cup qualification    93\n",
       "3                 AFF Championship    75\n",
       "4            Southeast Asian Games    56\n",
       "5      AFC Asian Cup qualification    53\n",
       "6             Indonesia Tournament    33\n",
       "7                       King's Cup    31\n",
       "8                      Asian Games    29\n",
       "9                        Korea Cup    25\n",
       "10                   AFC Asian Cup    16\n",
       "11        Vietnam Independence Cup     9\n",
       "12  Far Eastern Championship Games     3\n",
       "13                     Dunhill Cup     3\n",
       "14                     Merlion Cup     2\n",
       "15                       Kirin Cup     1\n",
       "16                  FIFA World Cup     1"
      ]
     },
     "execution_count": 23,
     "metadata": {},
     "output_type": "execute_result"
    }
   ],
   "source": [
    "ina_tournament = ina_df.groupby(by=[\"tournament\"]).agg({\n",
    "    'date': 'count',\n",
    "}).sort_values(by=\"date\", ascending=False).reset_index()\n",
    "ina_tournament"
   ]
  },
  {
   "cell_type": "code",
   "execution_count": 25,
   "id": "38f29188-18b1-4050-bcb9-5917740b5211",
   "metadata": {},
   "outputs": [
    {
     "data": {
      "image/png": "[encoded data removed]",
      "text/plain": [
       "<Figure size 1000x500 with 1 Axes>"
      ]
     },
     "metadata": {},
     "output_type": "display_data"
    }
   ],
   "source": [
    "plt.figure(figsize=(10, 5))\n",
    "g = sns.barplot(\n",
    "    data=ina_tournament, x=\"date\", y=\"tournament\", orient=\"h\"\n",
    ")\n",
    "g.bar_label(g.containers[0])\n",
    "\n",
    "plt.title(\"Banyak Pertandingan Timnas Indonesia Berdasarkan Kejuaraan\")\n",
    "plt.xlabel(\"Banyak Pertandingan\")\n",
    "plt.ylabel(\"Kejuaraan\")\n",
    "plt.show()"
   ]
  },
  {
   "cell_type": "markdown",
   "id": "37680de7-2780-4c3c-9205-17465d45ee6f",
   "metadata": {},
   "source": [
    "**INA VS MAL**"
   ]
  },
  {
   "cell_type": "code",
   "execution_count": 27,
   "id": "535f6fa6-054e-49ca-a25d-987f39ccdd6e",
   "metadata": {},
   "outputs": [
    {
     "data": {
      "text/plain": [
       "41"
      ]
     },
     "execution_count": 27,
     "metadata": {},
     "output_type": "execute_result"
    }
   ],
   "source": [
    "home_ina_vs_mal = ina_home_df[ina_home_df[\"away_team\"] == \"Malaysia\"] \n",
    "len(home_ina_vs_mal)"
   ]
  },
  {
   "cell_type": "code",
   "execution_count": 29,
   "id": "2999a65f-ea1a-4ddc-bd3e-2361afb66eea",
   "metadata": {},
   "outputs": [
    {
     "data": {
      "text/plain": [
       "24"
      ]
     },
     "execution_count": 29,
     "metadata": {},
     "output_type": "execute_result"
    }
   ],
   "source": [
    "ina_win_vs_mal = home_ina_vs_mal[home_ina_vs_mal[\"home_score\"] > home_ina_vs_mal[\"away_score\"]]\n",
    "len(ina_win_vs_mal)"
   ]
  },
  {
   "cell_type": "code",
   "execution_count": 31,
   "id": "a4c86b06-3aad-413d-acf3-e909d8c24309",
   "metadata": {},
   "outputs": [
    {
     "data": {
      "text/plain": [
       "7"
      ]
     },
     "execution_count": 31,
     "metadata": {},
     "output_type": "execute_result"
    }
   ],
   "source": [
    "ina_draw_vs_mal = home_ina_vs_mal[home_ina_vs_mal[\"home_score\"] == home_ina_vs_mal[\"away_score\"]]\n",
    "len(ina_draw_vs_mal)"
   ]
  },
  {
   "cell_type": "code",
   "execution_count": 33,
   "id": "f2eeacc9-ef23-4006-a16f-629a4921a01d",
   "metadata": {},
   "outputs": [
    {
     "data": {
      "text/plain": [
       "10"
      ]
     },
     "execution_count": 33,
     "metadata": {},
     "output_type": "execute_result"
    }
   ],
   "source": [
    "ina_lose_vs_mal = home_ina_vs_mal[home_ina_vs_mal[\"home_score\"] < home_ina_vs_mal[\"away_score\"]]\n",
    "len(ina_lose_vs_mal)"
   ]
  },
  {
   "cell_type": "code",
   "execution_count": 35,
   "id": "46c831e4-f885-4678-85c7-5f3998cab914",
   "metadata": {},
   "outputs": [],
   "source": [
    "ina_vs_mal_home_df = [len(ina_win_vs_mal), len(ina_draw_vs_mal), len(ina_lose_vs_mal)]"
   ]
  },
  {
   "cell_type": "code",
   "execution_count": 37,
   "id": "d02f6196-daa4-4c83-a069-712b96d1adfc",
   "metadata": {},
   "outputs": [
    {
     "data": {
      "text/plain": [
       "31"
      ]
     },
     "execution_count": 37,
     "metadata": {},
     "output_type": "execute_result"
    }
   ],
   "source": [
    "away_ina_vs_mal = ina_away_df[ina_away_df[\"home_team\"] == \"Malaysia\"] \n",
    "len(away_ina_vs_mal)"
   ]
  },
  {
   "cell_type": "code",
   "execution_count": 39,
   "id": "b55b28f4-8c1f-4cfe-9d45-e1773b55743d",
   "metadata": {},
   "outputs": [
    {
     "data": {
      "text/plain": [
       "14"
      ]
     },
     "execution_count": 39,
     "metadata": {},
     "output_type": "execute_result"
    }
   ],
   "source": [
    "mal_win_vs_ina = away_ina_vs_mal[away_ina_vs_mal[\"home_score\"] > away_ina_vs_mal[\"away_score\"]]\n",
    "len(mal_win_vs_ina)"
   ]
  },
  {
   "cell_type": "code",
   "execution_count": 41,
   "id": "c8fe8179-b186-4291-bb75-6f65435f7c98",
   "metadata": {},
   "outputs": [
    {
     "data": {
      "text/plain": [
       "9"
      ]
     },
     "execution_count": 41,
     "metadata": {},
     "output_type": "execute_result"
    }
   ],
   "source": [
    "mal_draw_vs_ina = away_ina_vs_mal[away_ina_vs_mal[\"home_score\"] == away_ina_vs_mal[\"away_score\"]]\n",
    "len(mal_draw_vs_ina)"
   ]
  },
  {
   "cell_type": "code",
   "execution_count": 43,
   "id": "b63c23d7-f78c-4c9e-8c4d-f71a4448ad2d",
   "metadata": {},
   "outputs": [
    {
     "data": {
      "text/plain": [
       "8"
      ]
     },
     "execution_count": 43,
     "metadata": {},
     "output_type": "execute_result"
    }
   ],
   "source": [
    "mal_lose_vs_ina = away_ina_vs_mal[away_ina_vs_mal[\"home_score\"] < away_ina_vs_mal[\"away_score\"]]\n",
    "len(mal_lose_vs_ina)"
   ]
  },
  {
   "cell_type": "code",
   "execution_count": 45,
   "id": "6467b73c-198b-4559-9ee4-efb20c310c1f",
   "metadata": {},
   "outputs": [],
   "source": [
    "ina_vs_mal_away_df = [len(mal_win_vs_ina), len(mal_draw_vs_ina), len(mal_lose_vs_ina)]"
   ]
  },
  {
   "cell_type": "code",
   "execution_count": 139,
   "id": "512796ae-2202-4ebd-af19-e380aeeae1b9",
   "metadata": {},
   "outputs": [],
   "source": [
    "overall_win_ina_vs_mal = len(ina_win_vs_mal) + len(mal_lose_vs_ina)\n",
    "overall_draw_ina_vs_mal = len(ina_draw_vs_mal) + len(mal_draw_vs_ina)\n",
    "overall_lose_ina_vs_mal = len(ina_lose_vs_mal) + len(mal_win_vs_ina)\n",
    "overall_ina_vs_mal_df = [overall_win_ina_vs_mal, overall_draw_ina_vs_mal, overall_lose_ina_vs_mal]"
   ]
  },
  {
   "cell_type": "code",
   "execution_count": 173,
   "id": "f208c3d8-c752-4e9e-b0c7-84125af18ad0",
   "metadata": {},
   "outputs": [
    {
     "name": "stdout",
     "output_type": "stream",
     "text": [
      "44.44444477558136\n",
      "22.22222238779068\n",
      "33.33333432674408\n",
      "58.53658318519592\n",
      "17.073170840740204\n",
      "24.390244483947754\n",
      "45.16128897666931\n",
      "29.032257199287415\n",
      "25.806450843811035\n"
     ]
    },
    {
     "data": {
      "image/png": "[encoded data removed]",
      "text/plain": [
       "<Figure size 1000x1000 with 3 Axes>"
      ]
     },
     "metadata": {},
     "output_type": "display_data"
    }
   ],
   "source": [
    "fig, ax = plt.subplots(3, 1, figsize=(10,10))\n",
    "\n",
    "def fmt_overall(x):\n",
    "    print(x)\n",
    "    return '{:.1f}%\\n{:.0f}'.format(x, sum(overall_ina_vs_mal_df)*x/100)\n",
    "    \n",
    "ax[0].pie(overall_ina_vs_mal_df, labels=[\"Menang\", \"Seri\", \"Kalah\"], autopct=fmt_overall,\n",
    "         colors=['cornflowerblue', 'gold', 'tomato'])\n",
    "ax[0].set_title(\"Persentase Pertandingan Timnas Sepakbola Indonesia vs Malaysia Keseluruhan\")\n",
    "\n",
    "def fmt_home(x):\n",
    "    print(x)\n",
    "    return '{:.1f}%\\n{:.0f}'.format(x, sum(ina_vs_mal_home_df)*x/100)\n",
    "    \n",
    "ax[1].pie(ina_vs_mal_home_df, labels=[\"Menang\", \"Seri\", \"Kalah\"], autopct=fmt_home,\n",
    "         colors=['cornflowerblue', 'gold', 'tomato'])\n",
    "ax[1].set_title(\"Persentase Pertandingan Kandang Timnas Sepakbola Indonesia vs Malaysia\")\n",
    "\n",
    "def fmt_away(x):\n",
    "    print(x)\n",
    "    return '{:.1f}%\\n{:.0f}'.format(x, sum(ina_vs_mal_away_df)*x/100)\n",
    "\n",
    "ax[2].pie(ina_vs_mal_away_df, labels=[\"Kalah\", \"Seri\", \"Menang\"], autopct=fmt_away,\n",
    "         colors=['tomato', 'gold', 'cornflowerblue'])\n",
    "ax[2].set_title(\"Persentase Pertandingan Tandang Timnas Sepakbola Indonesia vs Malaysia\")\n",
    "\n",
    "plt.show()"
   ]
  },
  {
   "cell_type": "markdown",
   "id": "b62dc635-cde3-4d3d-8312-1037c162628e",
   "metadata": {},
   "source": [
    "**INA VS VIE**"
   ]
  },
  {
   "cell_type": "code",
   "execution_count": 51,
   "id": "a6e49f00-bef2-4d6b-9b16-a294527c77de",
   "metadata": {},
   "outputs": [
    {
     "data": {
      "text/plain": [
       "15"
      ]
     },
     "execution_count": 51,
     "metadata": {},
     "output_type": "execute_result"
    }
   ],
   "source": [
    "home_ina_vs_vie = ina_home_df[ina_home_df[\"away_team\"] == \"Vietnam\"] \n",
    "len(home_ina_vs_vie)"
   ]
  },
  {
   "cell_type": "code",
   "execution_count": 53,
   "id": "78ab78df-4b60-4cfc-b9c7-67f4aa560b2d",
   "metadata": {},
   "outputs": [
    {
     "data": {
      "text/plain": [
       "7"
      ]
     },
     "execution_count": 53,
     "metadata": {},
     "output_type": "execute_result"
    }
   ],
   "source": [
    "ina_win_vs_vie = home_ina_vs_vie[home_ina_vs_vie[\"home_score\"] > home_ina_vs_vie[\"away_score\"]]\n",
    "len(ina_win_vs_vie)"
   ]
  },
  {
   "cell_type": "code",
   "execution_count": 55,
   "id": "10e152ac-4d19-4054-877e-8971fe49e268",
   "metadata": {},
   "outputs": [
    {
     "data": {
      "text/plain": [
       "5"
      ]
     },
     "execution_count": 55,
     "metadata": {},
     "output_type": "execute_result"
    }
   ],
   "source": [
    "ina_draw_vs_vie = home_ina_vs_vie[home_ina_vs_vie[\"home_score\"] == home_ina_vs_vie[\"away_score\"]]\n",
    "len(ina_draw_vs_vie)"
   ]
  },
  {
   "cell_type": "code",
   "execution_count": 57,
   "id": "a9e1bc00-761f-4f50-8a78-da188570cd8e",
   "metadata": {},
   "outputs": [
    {
     "data": {
      "text/plain": [
       "3"
      ]
     },
     "execution_count": 57,
     "metadata": {},
     "output_type": "execute_result"
    }
   ],
   "source": [
    "ina_lose_vs_vie = home_ina_vs_vie[home_ina_vs_vie[\"home_score\"] < home_ina_vs_vie[\"away_score\"]]\n",
    "len(ina_lose_vs_vie)"
   ]
  },
  {
   "cell_type": "code",
   "execution_count": 59,
   "id": "483aa9d0-7d89-4a9f-bcfe-57dcc423eab0",
   "metadata": {},
   "outputs": [],
   "source": [
    "ina_vs_vie_home_df = [len(ina_win_vs_vie), len(ina_draw_vs_vie), len(ina_lose_vs_vie)]"
   ]
  },
  {
   "cell_type": "code",
   "execution_count": 61,
   "id": "f65957cd-84c2-4eb3-81de-646c0a02a9e9",
   "metadata": {},
   "outputs": [
    {
     "data": {
      "text/plain": [
       "14"
      ]
     },
     "execution_count": 61,
     "metadata": {},
     "output_type": "execute_result"
    }
   ],
   "source": [
    "away_ina_vs_vie = ina_away_df[ina_away_df[\"home_team\"] == \"Vietnam\"] \n",
    "len(away_ina_vs_vie)"
   ]
  },
  {
   "cell_type": "code",
   "execution_count": 63,
   "id": "17987221-651b-46a2-bedf-79dafa866689",
   "metadata": {},
   "outputs": [
    {
     "data": {
      "text/plain": [
       "5"
      ]
     },
     "execution_count": 63,
     "metadata": {},
     "output_type": "execute_result"
    }
   ],
   "source": [
    "vie_win_vs_ina = away_ina_vs_vie[away_ina_vs_vie[\"home_score\"] > away_ina_vs_vie[\"away_score\"]]\n",
    "len(vie_win_vs_ina)"
   ]
  },
  {
   "cell_type": "code",
   "execution_count": 65,
   "id": "eefae2c2-3357-4dfd-afb7-21a6b6a910bd",
   "metadata": {},
   "outputs": [
    {
     "data": {
      "text/plain": [
       "5"
      ]
     },
     "execution_count": 65,
     "metadata": {},
     "output_type": "execute_result"
    }
   ],
   "source": [
    "vie_draw_vs_ina = away_ina_vs_vie[away_ina_vs_vie[\"home_score\"] == away_ina_vs_vie[\"away_score\"]]\n",
    "len(vie_draw_vs_ina)"
   ]
  },
  {
   "cell_type": "code",
   "execution_count": 67,
   "id": "5c331a74-bd38-4399-9f90-a26ffa7b9877",
   "metadata": {},
   "outputs": [
    {
     "data": {
      "text/plain": [
       "4"
      ]
     },
     "execution_count": 67,
     "metadata": {},
     "output_type": "execute_result"
    }
   ],
   "source": [
    "vie_lose_vs_ina = away_ina_vs_vie[away_ina_vs_vie[\"home_score\"] < away_ina_vs_vie[\"away_score\"]]\n",
    "len(vie_lose_vs_ina)"
   ]
  },
  {
   "cell_type": "code",
   "execution_count": 69,
   "id": "a7bf6d51-84ff-46d3-bb0e-a953a54b6ed7",
   "metadata": {},
   "outputs": [],
   "source": [
    "ina_vs_vie_away_df = [len(vie_win_vs_ina), len(vie_draw_vs_ina), len(vie_lose_vs_ina)]"
   ]
  },
  {
   "cell_type": "code",
   "execution_count": 145,
   "id": "8d561d6b-4908-4c73-ad72-d1e918585c89",
   "metadata": {},
   "outputs": [],
   "source": [
    "overall_win_ina_vs_vie = len(ina_win_vs_vie) + len(vie_lose_vs_ina)\n",
    "overall_draw_ina_vs_vie = len(ina_draw_vs_vie) + len(vie_draw_vs_ina)\n",
    "overall_lose_ina_vs_vie = len(ina_lose_vs_vie) + len(vie_win_vs_ina)\n",
    "overall_ina_vs_vie_df = [overall_win_ina_vs_vie, overall_draw_ina_vs_vie, overall_lose_ina_vs_vie]"
   ]
  },
  {
   "cell_type": "code",
   "execution_count": 171,
   "id": "562d593a-a765-472f-a4b3-76b005ab3fd4",
   "metadata": {},
   "outputs": [
    {
     "name": "stdout",
     "output_type": "stream",
     "text": [
      "37.931033968925476\n",
      "34.48275923728943\n",
      "27.586206793785095\n",
      "46.666666865348816\n",
      "33.33333432674408\n",
      "20.000000298023224\n",
      "35.71428656578064\n",
      "35.71428656578064\n",
      "28.57142984867096\n"
     ]
    },
    {
     "data": {
      "image/png": "[encoded data removed]",
      "text/plain": [
       "<Figure size 1000x1000 with 3 Axes>"
      ]
     },
     "metadata": {},
     "output_type": "display_data"
    }
   ],
   "source": [
    "fig, ax = plt.subplots(3, 1, figsize=(10,10))\n",
    "\n",
    "def fmt_overall(x):\n",
    "    print(x)\n",
    "    return '{:.1f}%\\n{:.0f}'.format(x, sum(overall_ina_vs_vie_df)*x/100)\n",
    "    \n",
    "ax[0].pie(overall_ina_vs_vie_df, labels=[\"Menang\", \"Seri\", \"Kalah\"], autopct=fmt_overall,\n",
    "         colors=['cornflowerblue', 'gold', 'tomato'])\n",
    "ax[0].set_title(\"Persentase Pertandingan Timnas Sepakbola Indonesia vs Vietnam Keseluruhan\")\n",
    "\n",
    "def fmt_home(x):\n",
    "    print(x)\n",
    "    return '{:.1f}%\\n{:.0f}'.format(x, sum(ina_vs_vie_home_df)*x/100)\n",
    "    \n",
    "ax[1].pie(ina_vs_vie_home_df, labels=[\"Menang\", \"Seri\", \"Kalah\"], autopct=fmt_home,\n",
    "         colors=['cornflowerblue', 'gold', 'tomato'])\n",
    "ax[1].set_title(\"Persentase Pertandingan Kandang Timnas Sepakbola Indonesia vs Vietnam\")\n",
    "\n",
    "def fmt_away(x):\n",
    "    print(x)\n",
    "    return '{:.1f}%\\n{:.0f}'.format(x, sum(ina_vs_vie_away_df)*x/100)\n",
    "\n",
    "ax[2].pie(ina_vs_vie_away_df, labels=[\"Kalah\", \"Seri\", \"Menang\"], autopct=fmt_away,\n",
    "         colors=['tomato', 'gold', 'cornflowerblue'])\n",
    "ax[2].set_title(\"Persentase Pertandingan Tandang Timnas Sepakbola Indonesia vs Vietnam\")\n",
    "\n",
    "plt.show()"
   ]
  },
  {
   "cell_type": "markdown",
   "id": "d208c95e-62f9-4f78-99df-6da7180a912e",
   "metadata": {},
   "source": [
    "**INA VS THA**"
   ]
  },
  {
   "cell_type": "code",
   "execution_count": 73,
   "id": "eee089b0-e1c8-4d6a-86e1-dcb8b350c3d2",
   "metadata": {},
   "outputs": [
    {
     "data": {
      "text/plain": [
       "41"
      ]
     },
     "execution_count": 73,
     "metadata": {},
     "output_type": "execute_result"
    }
   ],
   "source": [
    "home_ina_vs_tha = ina_home_df[ina_home_df[\"away_team\"] == \"Thailand\"] \n",
    "len(home_ina_vs_tha)"
   ]
  },
  {
   "cell_type": "code",
   "execution_count": 75,
   "id": "fdd96aa8-0fda-46d9-8433-50964ef1c1b2",
   "metadata": {},
   "outputs": [
    {
     "data": {
      "text/plain": [
       "16"
      ]
     },
     "execution_count": 75,
     "metadata": {},
     "output_type": "execute_result"
    }
   ],
   "source": [
    "ina_win_vs_tha = home_ina_vs_tha[home_ina_vs_tha[\"home_score\"] > home_ina_vs_tha[\"away_score\"]]\n",
    "len(ina_win_vs_tha)"
   ]
  },
  {
   "cell_type": "code",
   "execution_count": 77,
   "id": "ef9f509c-4e9f-454f-a1ee-f9efeda19afe",
   "metadata": {},
   "outputs": [
    {
     "data": {
      "text/plain": [
       "11"
      ]
     },
     "execution_count": 77,
     "metadata": {},
     "output_type": "execute_result"
    }
   ],
   "source": [
    "ina_draw_vs_tha = home_ina_vs_tha[home_ina_vs_tha[\"home_score\"] == home_ina_vs_tha[\"away_score\"]]\n",
    "len(ina_draw_vs_tha)"
   ]
  },
  {
   "cell_type": "code",
   "execution_count": 79,
   "id": "c27460c8-c701-4fbd-bd55-a59f9041cafc",
   "metadata": {},
   "outputs": [
    {
     "data": {
      "text/plain": [
       "14"
      ]
     },
     "execution_count": 79,
     "metadata": {},
     "output_type": "execute_result"
    }
   ],
   "source": [
    "ina_lose_vs_tha = home_ina_vs_tha[home_ina_vs_tha[\"home_score\"] < home_ina_vs_tha[\"away_score\"]]\n",
    "len(ina_lose_vs_tha)"
   ]
  },
  {
   "cell_type": "code",
   "execution_count": 81,
   "id": "1ca4d676-e7de-4f89-b8eb-f9128584a653",
   "metadata": {},
   "outputs": [],
   "source": [
    "ina_vs_tha_home_df = [len(ina_win_vs_tha), len(ina_draw_vs_tha), len(ina_lose_vs_tha)]"
   ]
  },
  {
   "cell_type": "code",
   "execution_count": 83,
   "id": "40c1394e-cff4-421b-b915-5fcebc788a37",
   "metadata": {},
   "outputs": [
    {
     "data": {
      "text/plain": [
       "27"
      ]
     },
     "execution_count": 83,
     "metadata": {},
     "output_type": "execute_result"
    }
   ],
   "source": [
    "away_ina_vs_tha = ina_away_df[ina_away_df[\"home_team\"] == \"Thailand\"] \n",
    "len(away_ina_vs_tha)"
   ]
  },
  {
   "cell_type": "code",
   "execution_count": 85,
   "id": "4a933301-21d5-4744-8c8a-8278b0e84bc0",
   "metadata": {},
   "outputs": [
    {
     "data": {
      "text/plain": [
       "19"
      ]
     },
     "execution_count": 85,
     "metadata": {},
     "output_type": "execute_result"
    }
   ],
   "source": [
    "tha_win_vs_ina = away_ina_vs_tha[away_ina_vs_tha[\"home_score\"] > away_ina_vs_tha[\"away_score\"]]\n",
    "len(tha_win_vs_ina)"
   ]
  },
  {
   "cell_type": "code",
   "execution_count": 87,
   "id": "3f3bc8b3-5d7a-4b0d-917f-fce7ed470674",
   "metadata": {},
   "outputs": [
    {
     "data": {
      "text/plain": [
       "5"
      ]
     },
     "execution_count": 87,
     "metadata": {},
     "output_type": "execute_result"
    }
   ],
   "source": [
    "tha_draw_vs_ina = away_ina_vs_tha[away_ina_vs_tha[\"home_score\"] == away_ina_vs_tha[\"away_score\"]]\n",
    "len(tha_draw_vs_ina)"
   ]
  },
  {
   "cell_type": "code",
   "execution_count": 89,
   "id": "6f39890e-e59d-44e1-a013-6657cad5357f",
   "metadata": {},
   "outputs": [
    {
     "data": {
      "text/plain": [
       "3"
      ]
     },
     "execution_count": 89,
     "metadata": {},
     "output_type": "execute_result"
    }
   ],
   "source": [
    "tha_lose_vs_ina = away_ina_vs_tha[away_ina_vs_tha[\"home_score\"] < away_ina_vs_tha[\"away_score\"]]\n",
    "len(tha_lose_vs_ina)"
   ]
  },
  {
   "cell_type": "code",
   "execution_count": 91,
   "id": "7480180c-816d-49dd-93b9-4127edaead43",
   "metadata": {},
   "outputs": [],
   "source": [
    "ina_vs_tha_away_df = [len(tha_win_vs_ina), len(tha_draw_vs_ina), len(tha_lose_vs_ina)]"
   ]
  },
  {
   "cell_type": "code",
   "execution_count": 151,
   "id": "092a32cd-d0de-4d19-90ef-3410eb206735",
   "metadata": {},
   "outputs": [],
   "source": [
    "overall_win_ina_vs_tha = len(ina_win_vs_tha) + len(tha_lose_vs_ina)\n",
    "overall_draw_ina_vs_tha = len(ina_draw_vs_tha) + len(tha_draw_vs_ina)\n",
    "overall_lose_ina_vs_tha = len(ina_lose_vs_tha) + len(tha_win_vs_ina)\n",
    "overall_ina_vs_tha_df = [overall_win_ina_vs_tha, overall_draw_ina_vs_tha, overall_lose_ina_vs_tha]"
   ]
  },
  {
   "cell_type": "code",
   "execution_count": 169,
   "id": "5a10d054-50c5-45f7-b664-890714b34c2c",
   "metadata": {},
   "outputs": [
    {
     "name": "stdout",
     "output_type": "stream",
     "text": [
      "27.941176295280457\n",
      "23.52941185235977\n",
      "48.52941036224365\n",
      "39.024388790130615\n",
      "26.829269528388977\n",
      "34.14634168148041\n",
      "70.37037014961243\n",
      "18.518517911434174\n",
      "11.11111119389534\n"
     ]
    },
    {
     "data": {
      "image/png": "[encoded data removed]",
      "text/plain": [
       "<Figure size 1000x1000 with 3 Axes>"
      ]
     },
     "metadata": {},
     "output_type": "display_data"
    }
   ],
   "source": [
    "fig, ax = plt.subplots(3, 1, figsize=(10,10))\n",
    "\n",
    "def fmt_overall(x):\n",
    "    print(x)\n",
    "    return '{:.1f}%\\n{:.0f}'.format(x, sum(overall_ina_vs_tha_df)*x/100)\n",
    "    \n",
    "ax[0].pie(overall_ina_vs_tha_df, labels=[\"Menang\", \"Seri\", \"Kalah\"], autopct=fmt_overall,\n",
    "         colors=['cornflowerblue', 'gold', 'tomato'])\n",
    "ax[0].set_title(\"Persentase Pertandingan Timnas Sepakbola Indonesia vs Thailand Keseluruhan\")\n",
    "\n",
    "def fmt_home(x):\n",
    "    print(x)\n",
    "    return '{:.1f}%\\n{:.0f}'.format(x, sum(ina_vs_tha_home_df)*x/100)\n",
    "    \n",
    "ax[1].pie(ina_vs_tha_home_df, labels=[\"Menang\", \"Seri\", \"Kalah\"], autopct=fmt_home,\n",
    "         colors=['cornflowerblue', 'gold', 'tomato'])\n",
    "ax[1].set_title(\"Persentase Pertandingan Kandang Timnas Sepakbola Indonesia vs Thailand\")\n",
    "\n",
    "def fmt_away(x):\n",
    "    print(x)\n",
    "    return '{:.1f}%\\n{:.0f}'.format(x, sum(ina_vs_tha_away_df)*x/100)\n",
    "\n",
    "ax[2].pie(ina_vs_tha_away_df, labels=[\"Kalah\", \"Seri\", \"Menang\"], autopct=fmt_away,\n",
    "         colors=['tomato', 'gold', 'cornflowerblue'])\n",
    "ax[2].set_title(\"Persentase Pertandingan Tandang Timnas Sepakbola Indonesia vs Thailand\")\n",
    "\n",
    "plt.show()"
   ]
  },
  {
   "cell_type": "markdown",
   "id": "d780f0de-2202-4b2d-baea-54e7a70eb5de",
   "metadata": {},
   "source": [
    "**Timnas Indonesia Coach Shin Tae Yong Era**"
   ]
  },
  {
   "cell_type": "code",
   "execution_count": 93,
   "id": "40515fba-5de1-4319-83ff-30dae2079be3",
   "metadata": {},
   "outputs": [
    {
     "data": {
      "text/plain": [
       "366"
      ]
     },
     "execution_count": 93,
     "metadata": {},
     "output_type": "execute_result"
    }
   ],
   "source": [
    "start = datetime.datetime(2024, 1, 1)\n",
    "end = datetime.datetime(2024, 12, 31)\n",
    "index = pd.date_range(start, end)\n",
    "len(index)"
   ]
  },
  {
   "cell_type": "code",
   "execution_count": 95,
   "id": "b9296995-5f01-40d2-a964-9bb7e9cff89f",
   "metadata": {},
   "outputs": [
    {
     "data": {
      "text/html": [
       "<div>\n",
       "<style scoped>\n",
       "    .dataframe tbody tr th:only-of-type {\n",
       "        vertical-align: middle;\n",
       "    }\n",
       "\n",
       "    .dataframe tbody tr th {\n",
       "        vertical-align: top;\n",
       "    }\n",
       "\n",
       "    .dataframe thead th {\n",
       "        text-align: right;\n",
       "    }\n",
       "</style>\n",
       "<table border=\"1\" class=\"dataframe\">\n",
       "  <thead>\n",
       "    <tr style=\"text-align: right;\">\n",
       "      <th></th>\n",
       "      <th>date</th>\n",
       "      <th>home_team</th>\n",
       "      <th>away_team</th>\n",
       "      <th>home_score</th>\n",
       "      <th>away_score</th>\n",
       "      <th>tournament</th>\n",
       "      <th>city</th>\n",
       "      <th>country</th>\n",
       "      <th>neutral</th>\n",
       "      <th>year</th>\n",
       "      <th>result_ina</th>\n",
       "    </tr>\n",
       "  </thead>\n",
       "  <tbody>\n",
       "  </tbody>\n",
       "</table>\n",
       "</div>"
      ],
      "text/plain": [
       "Empty DataFrame\n",
       "Columns: [date, home_team, away_team, home_score, away_score, tournament, city, country, neutral, year, result_ina]\n",
       "Index: []"
      ]
     },
     "execution_count": 95,
     "metadata": {},
     "output_type": "execute_result"
    }
   ],
   "source": [
    "ina_20_df = ina_df[ina_df[\"date\"].dt.year == 2020]\n",
    "\n",
    "home_ina_20_df = ina_20_df[ina_20_df[\"home_team\"] == \"Indonesia\"]\n",
    "win_home_ina_20_df = home_ina_20_df[home_ina_20_df[\"home_score\"] > home_ina_20_df[\"away_score\"]]\n",
    "lose_home_ina_20_df = home_ina_20_df[home_ina_20_df[\"home_score\"] < home_ina_20_df[\"away_score\"]]\n",
    "draw_home_ina_20_df = home_ina_20_df[home_ina_20_df[\"home_score\"] == home_ina_20_df[\"away_score\"]]\n",
    "\n",
    "away_ina_20_df = ina_20_df[ina_20_df[\"away_team\"] == \"Indonesia\"]\n",
    "win_away_ina_20_df = away_ina_20_df[away_ina_20_df[\"home_score\"] < away_ina_20_df[\"away_score\"]]\n",
    "lose_away_ina_20_df = away_ina_20_df[away_ina_20_df[\"home_score\"] > away_ina_20_df[\"away_score\"]]\n",
    "draw_away_ina_20_df = away_ina_20_df[away_ina_20_df[\"home_score\"] == away_ina_20_df[\"away_score\"]]\n",
    "\n",
    "win_ina_20_df = pd.concat([win_home_ina_20_df, win_away_ina_20_df]).sort_values(by=\"date\")\n",
    "win_ina_20_df[\"year\"] = 2020\n",
    "win_ina_20_df[\"result_ina\"] = \"Menang\"\n",
    "\n",
    "lose_ina_20_df = pd.concat([lose_home_ina_20_df, lose_away_ina_20_df]).sort_values(by=\"date\")\n",
    "lose_ina_20_df[\"year\"] = 2020\n",
    "lose_ina_20_df[\"result_ina\"] = \"Kalah\"\n",
    "\n",
    "draw_ina_20_df = pd.concat([draw_home_ina_20_df, draw_away_ina_20_df]).sort_values(by=\"date\")\n",
    "draw_ina_20_df[\"year\"] = 2020\n",
    "draw_ina_20_df[\"result_ina\"] = \"Imbang\"\n",
    "\n",
    "matches_ina_20_df = pd.concat([win_ina_20_df, lose_ina_20_df, draw_ina_20_df]).sort_values(by=\"date\")\n",
    "matches_ina_20_df"
   ]
  },
  {
   "cell_type": "code",
   "execution_count": 97,
   "id": "7ef05838-6b2a-4e72-8184-6aeb68e991b2",
   "metadata": {},
   "outputs": [
    {
     "data": {
      "text/html": [
       "<div>\n",
       "<style scoped>\n",
       "    .dataframe tbody tr th:only-of-type {\n",
       "        vertical-align: middle;\n",
       "    }\n",
       "\n",
       "    .dataframe tbody tr th {\n",
       "        vertical-align: top;\n",
       "    }\n",
       "\n",
       "    .dataframe thead th {\n",
       "        text-align: right;\n",
       "    }\n",
       "</style>\n",
       "<table border=\"1\" class=\"dataframe\">\n",
       "  <thead>\n",
       "    <tr style=\"text-align: right;\">\n",
       "      <th></th>\n",
       "      <th>date</th>\n",
       "      <th>home_team</th>\n",
       "      <th>away_team</th>\n",
       "      <th>home_score</th>\n",
       "      <th>away_score</th>\n",
       "      <th>tournament</th>\n",
       "      <th>city</th>\n",
       "      <th>country</th>\n",
       "      <th>neutral</th>\n",
       "      <th>year</th>\n",
       "      <th>result_ina</th>\n",
       "    </tr>\n",
       "  </thead>\n",
       "  <tbody>\n",
       "    <tr>\n",
       "      <th>43854</th>\n",
       "      <td>2021-05-25</td>\n",
       "      <td>Indonesia</td>\n",
       "      <td>Afghanistan</td>\n",
       "      <td>2</td>\n",
       "      <td>3</td>\n",
       "      <td>Friendly</td>\n",
       "      <td>Dubai</td>\n",
       "      <td>United Arab Emirates</td>\n",
       "      <td>True</td>\n",
       "      <td>2021</td>\n",
       "      <td>Kalah</td>\n",
       "    </tr>\n",
       "    <tr>\n",
       "      <th>43860</th>\n",
       "      <td>2021-05-29</td>\n",
       "      <td>Indonesia</td>\n",
       "      <td>Oman</td>\n",
       "      <td>1</td>\n",
       "      <td>3</td>\n",
       "      <td>Friendly</td>\n",
       "      <td>Dubai</td>\n",
       "      <td>United Arab Emirates</td>\n",
       "      <td>True</td>\n",
       "      <td>2021</td>\n",
       "      <td>Kalah</td>\n",
       "    </tr>\n",
       "    <tr>\n",
       "      <th>43905</th>\n",
       "      <td>2021-06-03</td>\n",
       "      <td>Thailand</td>\n",
       "      <td>Indonesia</td>\n",
       "      <td>2</td>\n",
       "      <td>2</td>\n",
       "      <td>FIFA World Cup qualification</td>\n",
       "      <td>Dubai</td>\n",
       "      <td>United Arab Emirates</td>\n",
       "      <td>True</td>\n",
       "      <td>2021</td>\n",
       "      <td>Imbang</td>\n",
       "    </tr>\n",
       "    <tr>\n",
       "      <th>43976</th>\n",
       "      <td>2021-06-07</td>\n",
       "      <td>Vietnam</td>\n",
       "      <td>Indonesia</td>\n",
       "      <td>4</td>\n",
       "      <td>0</td>\n",
       "      <td>FIFA World Cup qualification</td>\n",
       "      <td>Dubai</td>\n",
       "      <td>United Arab Emirates</td>\n",
       "      <td>True</td>\n",
       "      <td>2021</td>\n",
       "      <td>Kalah</td>\n",
       "    </tr>\n",
       "    <tr>\n",
       "      <th>44032</th>\n",
       "      <td>2021-06-11</td>\n",
       "      <td>United Arab Emirates</td>\n",
       "      <td>Indonesia</td>\n",
       "      <td>5</td>\n",
       "      <td>0</td>\n",
       "      <td>FIFA World Cup qualification</td>\n",
       "      <td>Dubai</td>\n",
       "      <td>United Arab Emirates</td>\n",
       "      <td>False</td>\n",
       "      <td>2021</td>\n",
       "      <td>Kalah</td>\n",
       "    </tr>\n",
       "    <tr>\n",
       "      <th>44430</th>\n",
       "      <td>2021-10-07</td>\n",
       "      <td>Indonesia</td>\n",
       "      <td>Taiwan</td>\n",
       "      <td>2</td>\n",
       "      <td>1</td>\n",
       "      <td>AFC Asian Cup qualification</td>\n",
       "      <td>Buriram</td>\n",
       "      <td>Thailand</td>\n",
       "      <td>True</td>\n",
       "      <td>2021</td>\n",
       "      <td>Menang</td>\n",
       "    </tr>\n",
       "    <tr>\n",
       "      <th>44513</th>\n",
       "      <td>2021-10-11</td>\n",
       "      <td>Taiwan</td>\n",
       "      <td>Indonesia</td>\n",
       "      <td>0</td>\n",
       "      <td>3</td>\n",
       "      <td>AFC Asian Cup qualification</td>\n",
       "      <td>Buriram</td>\n",
       "      <td>Thailand</td>\n",
       "      <td>True</td>\n",
       "      <td>2021</td>\n",
       "      <td>Menang</td>\n",
       "    </tr>\n",
       "    <tr>\n",
       "      <th>44668</th>\n",
       "      <td>2021-11-16</td>\n",
       "      <td>Indonesia</td>\n",
       "      <td>Afghanistan</td>\n",
       "      <td>0</td>\n",
       "      <td>1</td>\n",
       "      <td>Friendly</td>\n",
       "      <td>Antalya</td>\n",
       "      <td>Turkey</td>\n",
       "      <td>True</td>\n",
       "      <td>2021</td>\n",
       "      <td>Kalah</td>\n",
       "    </tr>\n",
       "    <tr>\n",
       "      <th>44704</th>\n",
       "      <td>2021-11-25</td>\n",
       "      <td>Indonesia</td>\n",
       "      <td>Myanmar</td>\n",
       "      <td>4</td>\n",
       "      <td>1</td>\n",
       "      <td>Friendly</td>\n",
       "      <td>Antalya</td>\n",
       "      <td>Turkey</td>\n",
       "      <td>True</td>\n",
       "      <td>2021</td>\n",
       "      <td>Menang</td>\n",
       "    </tr>\n",
       "    <tr>\n",
       "      <th>44739</th>\n",
       "      <td>2021-12-09</td>\n",
       "      <td>Indonesia</td>\n",
       "      <td>Cambodia</td>\n",
       "      <td>4</td>\n",
       "      <td>2</td>\n",
       "      <td>AFF Championship</td>\n",
       "      <td>Bishan</td>\n",
       "      <td>Singapore</td>\n",
       "      <td>True</td>\n",
       "      <td>2021</td>\n",
       "      <td>Menang</td>\n",
       "    </tr>\n",
       "    <tr>\n",
       "      <th>44747</th>\n",
       "      <td>2021-12-12</td>\n",
       "      <td>Laos</td>\n",
       "      <td>Indonesia</td>\n",
       "      <td>1</td>\n",
       "      <td>5</td>\n",
       "      <td>AFF Championship</td>\n",
       "      <td>Bishan</td>\n",
       "      <td>Singapore</td>\n",
       "      <td>True</td>\n",
       "      <td>2021</td>\n",
       "      <td>Menang</td>\n",
       "    </tr>\n",
       "    <tr>\n",
       "      <th>44754</th>\n",
       "      <td>2021-12-15</td>\n",
       "      <td>Indonesia</td>\n",
       "      <td>Vietnam</td>\n",
       "      <td>0</td>\n",
       "      <td>0</td>\n",
       "      <td>AFF Championship</td>\n",
       "      <td>Bishan</td>\n",
       "      <td>Singapore</td>\n",
       "      <td>True</td>\n",
       "      <td>2021</td>\n",
       "      <td>Imbang</td>\n",
       "    </tr>\n",
       "    <tr>\n",
       "      <th>44761</th>\n",
       "      <td>2021-12-19</td>\n",
       "      <td>Malaysia</td>\n",
       "      <td>Indonesia</td>\n",
       "      <td>1</td>\n",
       "      <td>4</td>\n",
       "      <td>AFF Championship</td>\n",
       "      <td>Kallang</td>\n",
       "      <td>Singapore</td>\n",
       "      <td>True</td>\n",
       "      <td>2021</td>\n",
       "      <td>Menang</td>\n",
       "    </tr>\n",
       "    <tr>\n",
       "      <th>44762</th>\n",
       "      <td>2021-12-22</td>\n",
       "      <td>Singapore</td>\n",
       "      <td>Indonesia</td>\n",
       "      <td>1</td>\n",
       "      <td>1</td>\n",
       "      <td>AFF Championship</td>\n",
       "      <td>Kallang</td>\n",
       "      <td>Singapore</td>\n",
       "      <td>False</td>\n",
       "      <td>2021</td>\n",
       "      <td>Imbang</td>\n",
       "    </tr>\n",
       "    <tr>\n",
       "      <th>44764</th>\n",
       "      <td>2021-12-25</td>\n",
       "      <td>Singapore</td>\n",
       "      <td>Indonesia</td>\n",
       "      <td>2</td>\n",
       "      <td>4</td>\n",
       "      <td>AFF Championship</td>\n",
       "      <td>Kallang</td>\n",
       "      <td>Singapore</td>\n",
       "      <td>False</td>\n",
       "      <td>2021</td>\n",
       "      <td>Menang</td>\n",
       "    </tr>\n",
       "    <tr>\n",
       "      <th>44766</th>\n",
       "      <td>2021-12-29</td>\n",
       "      <td>Indonesia</td>\n",
       "      <td>Thailand</td>\n",
       "      <td>0</td>\n",
       "      <td>4</td>\n",
       "      <td>AFF Championship</td>\n",
       "      <td>Kallang</td>\n",
       "      <td>Singapore</td>\n",
       "      <td>True</td>\n",
       "      <td>2021</td>\n",
       "      <td>Kalah</td>\n",
       "    </tr>\n",
       "  </tbody>\n",
       "</table>\n",
       "</div>"
      ],
      "text/plain": [
       "            date             home_team    away_team  home_score  away_score  \\\n",
       "43854 2021-05-25             Indonesia  Afghanistan           2           3   \n",
       "43860 2021-05-29             Indonesia         Oman           1           3   \n",
       "43905 2021-06-03              Thailand    Indonesia           2           2   \n",
       "43976 2021-06-07               Vietnam    Indonesia           4           0   \n",
       "44032 2021-06-11  United Arab Emirates    Indonesia           5           0   \n",
       "44430 2021-10-07             Indonesia       Taiwan           2           1   \n",
       "44513 2021-10-11                Taiwan    Indonesia           0           3   \n",
       "44668 2021-11-16             Indonesia  Afghanistan           0           1   \n",
       "44704 2021-11-25             Indonesia      Myanmar           4           1   \n",
       "44739 2021-12-09             Indonesia     Cambodia           4           2   \n",
       "44747 2021-12-12                  Laos    Indonesia           1           5   \n",
       "44754 2021-12-15             Indonesia      Vietnam           0           0   \n",
       "44761 2021-12-19              Malaysia    Indonesia           1           4   \n",
       "44762 2021-12-22             Singapore    Indonesia           1           1   \n",
       "44764 2021-12-25             Singapore    Indonesia           2           4   \n",
       "44766 2021-12-29             Indonesia     Thailand           0           4   \n",
       "\n",
       "                         tournament     city               country  neutral  \\\n",
       "43854                      Friendly    Dubai  United Arab Emirates     True   \n",
       "43860                      Friendly    Dubai  United Arab Emirates     True   \n",
       "43905  FIFA World Cup qualification    Dubai  United Arab Emirates     True   \n",
       "43976  FIFA World Cup qualification    Dubai  United Arab Emirates     True   \n",
       "44032  FIFA World Cup qualification    Dubai  United Arab Emirates    False   \n",
       "44430   AFC Asian Cup qualification  Buriram              Thailand     True   \n",
       "44513   AFC Asian Cup qualification  Buriram              Thailand     True   \n",
       "44668                      Friendly  Antalya                Turkey     True   \n",
       "44704                      Friendly  Antalya                Turkey     True   \n",
       "44739              AFF Championship   Bishan             Singapore     True   \n",
       "44747              AFF Championship   Bishan             Singapore     True   \n",
       "44754              AFF Championship   Bishan             Singapore     True   \n",
       "44761              AFF Championship  Kallang             Singapore     True   \n",
       "44762              AFF Championship  Kallang             Singapore    False   \n",
       "44764              AFF Championship  Kallang             Singapore    False   \n",
       "44766              AFF Championship  Kallang             Singapore     True   \n",
       "\n",
       "       year result_ina  \n",
       "43854  2021      Kalah  \n",
       "43860  2021      Kalah  \n",
       "43905  2021     Imbang  \n",
       "43976  2021      Kalah  \n",
       "44032  2021      Kalah  \n",
       "44430  2021     Menang  \n",
       "44513  2021     Menang  \n",
       "44668  2021      Kalah  \n",
       "44704  2021     Menang  \n",
       "44739  2021     Menang  \n",
       "44747  2021     Menang  \n",
       "44754  2021     Imbang  \n",
       "44761  2021     Menang  \n",
       "44762  2021     Imbang  \n",
       "44764  2021     Menang  \n",
       "44766  2021      Kalah  "
      ]
     },
     "execution_count": 97,
     "metadata": {},
     "output_type": "execute_result"
    }
   ],
   "source": [
    "ina_21_df = ina_df[ina_df[\"date\"].dt.year == 2021]\n",
    "\n",
    "home_ina_21_df = ina_21_df[ina_21_df[\"home_team\"] == \"Indonesia\"]\n",
    "win_home_ina_21_df = home_ina_21_df[home_ina_21_df[\"home_score\"] > home_ina_21_df[\"away_score\"]]\n",
    "lose_home_ina_21_df = home_ina_21_df[home_ina_21_df[\"home_score\"] < home_ina_21_df[\"away_score\"]]\n",
    "draw_home_ina_21_df = home_ina_21_df[home_ina_21_df[\"home_score\"] == home_ina_21_df[\"away_score\"]]\n",
    "\n",
    "away_ina_21_df = ina_21_df[ina_21_df[\"away_team\"] == \"Indonesia\"]\n",
    "win_away_ina_21_df = away_ina_21_df[away_ina_21_df[\"home_score\"] < away_ina_21_df[\"away_score\"]]\n",
    "lose_away_ina_21_df = away_ina_21_df[away_ina_21_df[\"home_score\"] > away_ina_21_df[\"away_score\"]]\n",
    "draw_away_ina_21_df = away_ina_21_df[away_ina_21_df[\"home_score\"] == away_ina_21_df[\"away_score\"]]\n",
    "\n",
    "win_ina_21_df = pd.concat([win_home_ina_21_df, win_away_ina_21_df]).sort_values(by=\"date\")\n",
    "win_ina_21_df[\"year\"] = 2021\n",
    "win_ina_21_df[\"result_ina\"] = \"Menang\"\n",
    "\n",
    "lose_ina_21_df = pd.concat([lose_home_ina_21_df, lose_away_ina_21_df]).sort_values(by=\"date\")\n",
    "lose_ina_21_df[\"year\"] = 2021\n",
    "lose_ina_21_df[\"result_ina\"] = \"Kalah\"\n",
    "\n",
    "draw_ina_21_df = pd.concat([draw_home_ina_21_df, draw_away_ina_21_df]).sort_values(by=\"date\")\n",
    "draw_ina_21_df[\"year\"] = 2021\n",
    "draw_ina_21_df[\"result_ina\"] = \"Imbang\"\n",
    "\n",
    "matches_ina_21_df = pd.concat([win_ina_21_df, lose_ina_21_df, draw_ina_21_df]).sort_values(by=\"date\")\n",
    "matches_ina_21_df"
   ]
  },
  {
   "cell_type": "code",
   "execution_count": 99,
   "id": "7d990b13-8b18-4c00-a5a7-845fd4559a6c",
   "metadata": {},
   "outputs": [
    {
     "data": {
      "text/html": [
       "<div>\n",
       "<style scoped>\n",
       "    .dataframe tbody tr th:only-of-type {\n",
       "        vertical-align: middle;\n",
       "    }\n",
       "\n",
       "    .dataframe tbody tr th {\n",
       "        vertical-align: top;\n",
       "    }\n",
       "\n",
       "    .dataframe thead th {\n",
       "        text-align: right;\n",
       "    }\n",
       "</style>\n",
       "<table border=\"1\" class=\"dataframe\">\n",
       "  <thead>\n",
       "    <tr style=\"text-align: right;\">\n",
       "      <th></th>\n",
       "      <th>date</th>\n",
       "      <th>home_team</th>\n",
       "      <th>away_team</th>\n",
       "      <th>home_score</th>\n",
       "      <th>away_score</th>\n",
       "      <th>tournament</th>\n",
       "      <th>city</th>\n",
       "      <th>country</th>\n",
       "      <th>neutral</th>\n",
       "      <th>year</th>\n",
       "      <th>result_ina</th>\n",
       "    </tr>\n",
       "  </thead>\n",
       "  <tbody>\n",
       "    <tr>\n",
       "      <th>44770</th>\n",
       "      <td>2022-01-01</td>\n",
       "      <td>Thailand</td>\n",
       "      <td>Indonesia</td>\n",
       "      <td>2</td>\n",
       "      <td>2</td>\n",
       "      <td>AFF Championship</td>\n",
       "      <td>Kallang</td>\n",
       "      <td>Singapore</td>\n",
       "      <td>True</td>\n",
       "      <td>2022</td>\n",
       "      <td>Imbang</td>\n",
       "    </tr>\n",
       "    <tr>\n",
       "      <th>44831</th>\n",
       "      <td>2022-01-27</td>\n",
       "      <td>Indonesia</td>\n",
       "      <td>Timor-Leste</td>\n",
       "      <td>4</td>\n",
       "      <td>1</td>\n",
       "      <td>Friendly</td>\n",
       "      <td>Gianyar</td>\n",
       "      <td>Indonesia</td>\n",
       "      <td>False</td>\n",
       "      <td>2022</td>\n",
       "      <td>Menang</td>\n",
       "    </tr>\n",
       "    <tr>\n",
       "      <th>44855</th>\n",
       "      <td>2022-01-30</td>\n",
       "      <td>Indonesia</td>\n",
       "      <td>Timor-Leste</td>\n",
       "      <td>3</td>\n",
       "      <td>0</td>\n",
       "      <td>Friendly</td>\n",
       "      <td>Gianyar</td>\n",
       "      <td>Indonesia</td>\n",
       "      <td>False</td>\n",
       "      <td>2022</td>\n",
       "      <td>Menang</td>\n",
       "    </tr>\n",
       "    <tr>\n",
       "      <th>45090</th>\n",
       "      <td>2022-06-01</td>\n",
       "      <td>Indonesia</td>\n",
       "      <td>Bangladesh</td>\n",
       "      <td>0</td>\n",
       "      <td>0</td>\n",
       "      <td>Friendly</td>\n",
       "      <td>Soreang</td>\n",
       "      <td>Indonesia</td>\n",
       "      <td>False</td>\n",
       "      <td>2022</td>\n",
       "      <td>Imbang</td>\n",
       "    </tr>\n",
       "    <tr>\n",
       "      <th>45216</th>\n",
       "      <td>2022-06-08</td>\n",
       "      <td>Kuwait</td>\n",
       "      <td>Indonesia</td>\n",
       "      <td>1</td>\n",
       "      <td>2</td>\n",
       "      <td>AFC Asian Cup qualification</td>\n",
       "      <td>Kuwait City</td>\n",
       "      <td>Kuwait</td>\n",
       "      <td>False</td>\n",
       "      <td>2022</td>\n",
       "      <td>Menang</td>\n",
       "    </tr>\n",
       "    <tr>\n",
       "      <th>45281</th>\n",
       "      <td>2022-06-11</td>\n",
       "      <td>Indonesia</td>\n",
       "      <td>Jordan</td>\n",
       "      <td>0</td>\n",
       "      <td>1</td>\n",
       "      <td>AFC Asian Cup qualification</td>\n",
       "      <td>Kuwait City</td>\n",
       "      <td>Kuwait</td>\n",
       "      <td>True</td>\n",
       "      <td>2022</td>\n",
       "      <td>Kalah</td>\n",
       "    </tr>\n",
       "    <tr>\n",
       "      <th>45341</th>\n",
       "      <td>2022-06-14</td>\n",
       "      <td>Indonesia</td>\n",
       "      <td>Nepal</td>\n",
       "      <td>7</td>\n",
       "      <td>0</td>\n",
       "      <td>AFC Asian Cup qualification</td>\n",
       "      <td>Kuwait City</td>\n",
       "      <td>Kuwait</td>\n",
       "      <td>True</td>\n",
       "      <td>2022</td>\n",
       "      <td>Menang</td>\n",
       "    </tr>\n",
       "    <tr>\n",
       "      <th>45464</th>\n",
       "      <td>2022-09-24</td>\n",
       "      <td>Indonesia</td>\n",
       "      <td>Curaçao</td>\n",
       "      <td>3</td>\n",
       "      <td>2</td>\n",
       "      <td>Friendly</td>\n",
       "      <td>Bandung</td>\n",
       "      <td>Indonesia</td>\n",
       "      <td>False</td>\n",
       "      <td>2022</td>\n",
       "      <td>Menang</td>\n",
       "    </tr>\n",
       "    <tr>\n",
       "      <th>45522</th>\n",
       "      <td>2022-09-27</td>\n",
       "      <td>Indonesia</td>\n",
       "      <td>Curaçao</td>\n",
       "      <td>2</td>\n",
       "      <td>1</td>\n",
       "      <td>Friendly</td>\n",
       "      <td>Cibinong</td>\n",
       "      <td>Indonesia</td>\n",
       "      <td>False</td>\n",
       "      <td>2022</td>\n",
       "      <td>Menang</td>\n",
       "    </tr>\n",
       "    <tr>\n",
       "      <th>45725</th>\n",
       "      <td>2022-12-23</td>\n",
       "      <td>Indonesia</td>\n",
       "      <td>Cambodia</td>\n",
       "      <td>2</td>\n",
       "      <td>1</td>\n",
       "      <td>AFF Championship</td>\n",
       "      <td>Jakarta</td>\n",
       "      <td>Indonesia</td>\n",
       "      <td>False</td>\n",
       "      <td>2022</td>\n",
       "      <td>Menang</td>\n",
       "    </tr>\n",
       "    <tr>\n",
       "      <th>45728</th>\n",
       "      <td>2022-12-26</td>\n",
       "      <td>Brunei</td>\n",
       "      <td>Indonesia</td>\n",
       "      <td>0</td>\n",
       "      <td>7</td>\n",
       "      <td>AFF Championship</td>\n",
       "      <td>Kuala Lumpur</td>\n",
       "      <td>Malaysia</td>\n",
       "      <td>True</td>\n",
       "      <td>2022</td>\n",
       "      <td>Menang</td>\n",
       "    </tr>\n",
       "    <tr>\n",
       "      <th>45733</th>\n",
       "      <td>2022-12-29</td>\n",
       "      <td>Indonesia</td>\n",
       "      <td>Thailand</td>\n",
       "      <td>1</td>\n",
       "      <td>1</td>\n",
       "      <td>AFF Championship</td>\n",
       "      <td>Jakarta</td>\n",
       "      <td>Indonesia</td>\n",
       "      <td>False</td>\n",
       "      <td>2022</td>\n",
       "      <td>Imbang</td>\n",
       "    </tr>\n",
       "  </tbody>\n",
       "</table>\n",
       "</div>"
      ],
      "text/plain": [
       "            date  home_team    away_team  home_score  away_score  \\\n",
       "44770 2022-01-01   Thailand    Indonesia           2           2   \n",
       "44831 2022-01-27  Indonesia  Timor-Leste           4           1   \n",
       "44855 2022-01-30  Indonesia  Timor-Leste           3           0   \n",
       "45090 2022-06-01  Indonesia   Bangladesh           0           0   \n",
       "45216 2022-06-08     Kuwait    Indonesia           1           2   \n",
       "45281 2022-06-11  Indonesia       Jordan           0           1   \n",
       "45341 2022-06-14  Indonesia        Nepal           7           0   \n",
       "45464 2022-09-24  Indonesia      Curaçao           3           2   \n",
       "45522 2022-09-27  Indonesia      Curaçao           2           1   \n",
       "45725 2022-12-23  Indonesia     Cambodia           2           1   \n",
       "45728 2022-12-26     Brunei    Indonesia           0           7   \n",
       "45733 2022-12-29  Indonesia     Thailand           1           1   \n",
       "\n",
       "                        tournament          city    country  neutral  year  \\\n",
       "44770             AFF Championship       Kallang  Singapore     True  2022   \n",
       "44831                     Friendly       Gianyar  Indonesia    False  2022   \n",
       "44855                     Friendly       Gianyar  Indonesia    False  2022   \n",
       "45090                     Friendly       Soreang  Indonesia    False  2022   \n",
       "45216  AFC Asian Cup qualification   Kuwait City     Kuwait    False  2022   \n",
       "45281  AFC Asian Cup qualification   Kuwait City     Kuwait     True  2022   \n",
       "45341  AFC Asian Cup qualification   Kuwait City     Kuwait     True  2022   \n",
       "45464                     Friendly       Bandung  Indonesia    False  2022   \n",
       "45522                     Friendly      Cibinong  Indonesia    False  2022   \n",
       "45725             AFF Championship       Jakarta  Indonesia    False  2022   \n",
       "45728             AFF Championship  Kuala Lumpur   Malaysia     True  2022   \n",
       "45733             AFF Championship       Jakarta  Indonesia    False  2022   \n",
       "\n",
       "      result_ina  \n",
       "44770     Imbang  \n",
       "44831     Menang  \n",
       "44855     Menang  \n",
       "45090     Imbang  \n",
       "45216     Menang  \n",
       "45281      Kalah  \n",
       "45341     Menang  \n",
       "45464     Menang  \n",
       "45522     Menang  \n",
       "45725     Menang  \n",
       "45728     Menang  \n",
       "45733     Imbang  "
      ]
     },
     "execution_count": 99,
     "metadata": {},
     "output_type": "execute_result"
    }
   ],
   "source": [
    "ina_22_df = ina_df[ina_df[\"date\"].dt.year == 2022]\n",
    "\n",
    "home_ina_22_df = ina_22_df[ina_22_df[\"home_team\"] == \"Indonesia\"]\n",
    "win_home_ina_22_df = home_ina_22_df[home_ina_22_df[\"home_score\"] > home_ina_22_df[\"away_score\"]]\n",
    "lose_home_ina_22_df = home_ina_22_df[home_ina_22_df[\"home_score\"] < home_ina_22_df[\"away_score\"]]\n",
    "draw_home_ina_22_df = home_ina_22_df[home_ina_22_df[\"home_score\"] == home_ina_22_df[\"away_score\"]]\n",
    "\n",
    "away_ina_22_df = ina_22_df[ina_22_df[\"away_team\"] == \"Indonesia\"]\n",
    "win_away_ina_22_df = away_ina_22_df[away_ina_22_df[\"home_score\"] < away_ina_22_df[\"away_score\"]]\n",
    "lose_away_ina_22_df = away_ina_22_df[away_ina_22_df[\"home_score\"] > away_ina_22_df[\"away_score\"]]\n",
    "draw_away_ina_22_df = away_ina_22_df[away_ina_22_df[\"home_score\"] == away_ina_22_df[\"away_score\"]]\n",
    "\n",
    "win_ina_22_df = pd.concat([win_home_ina_22_df, win_away_ina_22_df]).sort_values(by=\"date\")\n",
    "win_ina_22_df[\"year\"] = 2022\n",
    "win_ina_22_df[\"result_ina\"] = \"Menang\"\n",
    "\n",
    "lose_ina_22_df = pd.concat([lose_home_ina_22_df, lose_away_ina_22_df]).sort_values(by=\"date\")\n",
    "lose_ina_22_df[\"year\"] = 2022\n",
    "lose_ina_22_df[\"result_ina\"] = \"Kalah\"\n",
    "\n",
    "draw_ina_22_df = pd.concat([draw_home_ina_22_df, draw_away_ina_22_df]).sort_values(by=\"date\")\n",
    "draw_ina_22_df[\"year\"] = 2022\n",
    "draw_ina_22_df[\"result_ina\"] = \"Imbang\"\n",
    "\n",
    "matches_ina_22_df = pd.concat([win_ina_22_df, lose_ina_22_df, draw_ina_22_df]).sort_values(by=\"date\")\n",
    "matches_ina_22_df"
   ]
  },
  {
   "cell_type": "code",
   "execution_count": 101,
   "id": "b65c4122-8cdf-49af-a71d-7f35c36636b7",
   "metadata": {},
   "outputs": [
    {
     "data": {
      "text/html": [
       "<div>\n",
       "<style scoped>\n",
       "    .dataframe tbody tr th:only-of-type {\n",
       "        vertical-align: middle;\n",
       "    }\n",
       "\n",
       "    .dataframe tbody tr th {\n",
       "        vertical-align: top;\n",
       "    }\n",
       "\n",
       "    .dataframe thead th {\n",
       "        text-align: right;\n",
       "    }\n",
       "</style>\n",
       "<table border=\"1\" class=\"dataframe\">\n",
       "  <thead>\n",
       "    <tr style=\"text-align: right;\">\n",
       "      <th></th>\n",
       "      <th>date</th>\n",
       "      <th>home_team</th>\n",
       "      <th>away_team</th>\n",
       "      <th>home_score</th>\n",
       "      <th>away_score</th>\n",
       "      <th>tournament</th>\n",
       "      <th>city</th>\n",
       "      <th>country</th>\n",
       "      <th>neutral</th>\n",
       "      <th>year</th>\n",
       "      <th>result_ina</th>\n",
       "    </tr>\n",
       "  </thead>\n",
       "  <tbody>\n",
       "    <tr>\n",
       "      <th>45740</th>\n",
       "      <td>2023-01-02</td>\n",
       "      <td>Philippines</td>\n",
       "      <td>Indonesia</td>\n",
       "      <td>1</td>\n",
       "      <td>2</td>\n",
       "      <td>AFF Championship</td>\n",
       "      <td>Manila</td>\n",
       "      <td>Philippines</td>\n",
       "      <td>False</td>\n",
       "      <td>2023</td>\n",
       "      <td>Menang</td>\n",
       "    </tr>\n",
       "    <tr>\n",
       "      <th>45745</th>\n",
       "      <td>2023-01-06</td>\n",
       "      <td>Indonesia</td>\n",
       "      <td>Vietnam</td>\n",
       "      <td>0</td>\n",
       "      <td>0</td>\n",
       "      <td>AFF Championship</td>\n",
       "      <td>Jakarta</td>\n",
       "      <td>Indonesia</td>\n",
       "      <td>False</td>\n",
       "      <td>2023</td>\n",
       "      <td>Imbang</td>\n",
       "    </tr>\n",
       "    <tr>\n",
       "      <th>45753</th>\n",
       "      <td>2023-01-09</td>\n",
       "      <td>Vietnam</td>\n",
       "      <td>Indonesia</td>\n",
       "      <td>2</td>\n",
       "      <td>0</td>\n",
       "      <td>AFF Championship</td>\n",
       "      <td>Hanoi</td>\n",
       "      <td>Vietnam</td>\n",
       "      <td>False</td>\n",
       "      <td>2023</td>\n",
       "      <td>Kalah</td>\n",
       "    </tr>\n",
       "    <tr>\n",
       "      <th>45856</th>\n",
       "      <td>2023-03-25</td>\n",
       "      <td>Indonesia</td>\n",
       "      <td>Burundi</td>\n",
       "      <td>3</td>\n",
       "      <td>1</td>\n",
       "      <td>Friendly</td>\n",
       "      <td>Bekasi</td>\n",
       "      <td>Indonesia</td>\n",
       "      <td>False</td>\n",
       "      <td>2023</td>\n",
       "      <td>Menang</td>\n",
       "    </tr>\n",
       "    <tr>\n",
       "      <th>45925</th>\n",
       "      <td>2023-03-28</td>\n",
       "      <td>Indonesia</td>\n",
       "      <td>Burundi</td>\n",
       "      <td>2</td>\n",
       "      <td>2</td>\n",
       "      <td>Friendly</td>\n",
       "      <td>Bekasi</td>\n",
       "      <td>Indonesia</td>\n",
       "      <td>False</td>\n",
       "      <td>2023</td>\n",
       "      <td>Imbang</td>\n",
       "    </tr>\n",
       "    <tr>\n",
       "      <th>45979</th>\n",
       "      <td>2023-06-14</td>\n",
       "      <td>Indonesia</td>\n",
       "      <td>Palestine</td>\n",
       "      <td>0</td>\n",
       "      <td>0</td>\n",
       "      <td>Friendly</td>\n",
       "      <td>Surabaya</td>\n",
       "      <td>Indonesia</td>\n",
       "      <td>False</td>\n",
       "      <td>2023</td>\n",
       "      <td>Imbang</td>\n",
       "    </tr>\n",
       "    <tr>\n",
       "      <th>46074</th>\n",
       "      <td>2023-06-19</td>\n",
       "      <td>Indonesia</td>\n",
       "      <td>Argentina</td>\n",
       "      <td>0</td>\n",
       "      <td>2</td>\n",
       "      <td>Friendly</td>\n",
       "      <td>Jakarta</td>\n",
       "      <td>Indonesia</td>\n",
       "      <td>False</td>\n",
       "      <td>2023</td>\n",
       "      <td>Kalah</td>\n",
       "    </tr>\n",
       "    <tr>\n",
       "      <th>46295</th>\n",
       "      <td>2023-09-08</td>\n",
       "      <td>Indonesia</td>\n",
       "      <td>Turkmenistan</td>\n",
       "      <td>2</td>\n",
       "      <td>0</td>\n",
       "      <td>Friendly</td>\n",
       "      <td>Surabaya</td>\n",
       "      <td>Indonesia</td>\n",
       "      <td>False</td>\n",
       "      <td>2023</td>\n",
       "      <td>Menang</td>\n",
       "    </tr>\n",
       "    <tr>\n",
       "      <th>46429</th>\n",
       "      <td>2023-10-12</td>\n",
       "      <td>Indonesia</td>\n",
       "      <td>Brunei</td>\n",
       "      <td>6</td>\n",
       "      <td>0</td>\n",
       "      <td>FIFA World Cup qualification</td>\n",
       "      <td>Jakarta</td>\n",
       "      <td>Indonesia</td>\n",
       "      <td>False</td>\n",
       "      <td>2023</td>\n",
       "      <td>Menang</td>\n",
       "    </tr>\n",
       "    <tr>\n",
       "      <th>46542</th>\n",
       "      <td>2023-10-17</td>\n",
       "      <td>Brunei</td>\n",
       "      <td>Indonesia</td>\n",
       "      <td>0</td>\n",
       "      <td>6</td>\n",
       "      <td>FIFA World Cup qualification</td>\n",
       "      <td>Bandar Seri Begawan</td>\n",
       "      <td>Brunei</td>\n",
       "      <td>False</td>\n",
       "      <td>2023</td>\n",
       "      <td>Menang</td>\n",
       "    </tr>\n",
       "    <tr>\n",
       "      <th>46610</th>\n",
       "      <td>2023-11-16</td>\n",
       "      <td>Iraq</td>\n",
       "      <td>Indonesia</td>\n",
       "      <td>5</td>\n",
       "      <td>1</td>\n",
       "      <td>FIFA World Cup qualification</td>\n",
       "      <td>Basra</td>\n",
       "      <td>Iraq</td>\n",
       "      <td>False</td>\n",
       "      <td>2023</td>\n",
       "      <td>Kalah</td>\n",
       "    </tr>\n",
       "    <tr>\n",
       "      <th>46741</th>\n",
       "      <td>2023-11-21</td>\n",
       "      <td>Philippines</td>\n",
       "      <td>Indonesia</td>\n",
       "      <td>1</td>\n",
       "      <td>1</td>\n",
       "      <td>FIFA World Cup qualification</td>\n",
       "      <td>Manila</td>\n",
       "      <td>Philippines</td>\n",
       "      <td>False</td>\n",
       "      <td>2023</td>\n",
       "      <td>Imbang</td>\n",
       "    </tr>\n",
       "  </tbody>\n",
       "</table>\n",
       "</div>"
      ],
      "text/plain": [
       "            date    home_team     away_team  home_score  away_score  \\\n",
       "45740 2023-01-02  Philippines     Indonesia           1           2   \n",
       "45745 2023-01-06    Indonesia       Vietnam           0           0   \n",
       "45753 2023-01-09      Vietnam     Indonesia           2           0   \n",
       "45856 2023-03-25    Indonesia       Burundi           3           1   \n",
       "45925 2023-03-28    Indonesia       Burundi           2           2   \n",
       "45979 2023-06-14    Indonesia     Palestine           0           0   \n",
       "46074 2023-06-19    Indonesia     Argentina           0           2   \n",
       "46295 2023-09-08    Indonesia  Turkmenistan           2           0   \n",
       "46429 2023-10-12    Indonesia        Brunei           6           0   \n",
       "46542 2023-10-17       Brunei     Indonesia           0           6   \n",
       "46610 2023-11-16         Iraq     Indonesia           5           1   \n",
       "46741 2023-11-21  Philippines     Indonesia           1           1   \n",
       "\n",
       "                         tournament                 city      country  \\\n",
       "45740              AFF Championship               Manila  Philippines   \n",
       "45745              AFF Championship              Jakarta    Indonesia   \n",
       "45753              AFF Championship                Hanoi      Vietnam   \n",
       "45856                      Friendly               Bekasi    Indonesia   \n",
       "45925                      Friendly               Bekasi    Indonesia   \n",
       "45979                      Friendly             Surabaya    Indonesia   \n",
       "46074                      Friendly              Jakarta    Indonesia   \n",
       "46295                      Friendly             Surabaya    Indonesia   \n",
       "46429  FIFA World Cup qualification              Jakarta    Indonesia   \n",
       "46542  FIFA World Cup qualification  Bandar Seri Begawan       Brunei   \n",
       "46610  FIFA World Cup qualification                Basra         Iraq   \n",
       "46741  FIFA World Cup qualification               Manila  Philippines   \n",
       "\n",
       "       neutral  year result_ina  \n",
       "45740    False  2023     Menang  \n",
       "45745    False  2023     Imbang  \n",
       "45753    False  2023      Kalah  \n",
       "45856    False  2023     Menang  \n",
       "45925    False  2023     Imbang  \n",
       "45979    False  2023     Imbang  \n",
       "46074    False  2023      Kalah  \n",
       "46295    False  2023     Menang  \n",
       "46429    False  2023     Menang  \n",
       "46542    False  2023     Menang  \n",
       "46610    False  2023      Kalah  \n",
       "46741    False  2023     Imbang  "
      ]
     },
     "execution_count": 101,
     "metadata": {},
     "output_type": "execute_result"
    }
   ],
   "source": [
    "ina_23_df = ina_df[ina_df[\"date\"].dt.year == 2023]\n",
    "\n",
    "home_ina_23_df = ina_23_df[ina_23_df[\"home_team\"] == \"Indonesia\"]\n",
    "win_home_ina_23_df = home_ina_23_df[home_ina_23_df[\"home_score\"] > home_ina_23_df[\"away_score\"]]\n",
    "lose_home_ina_23_df = home_ina_23_df[home_ina_23_df[\"home_score\"] < home_ina_23_df[\"away_score\"]]\n",
    "draw_home_ina_23_df = home_ina_23_df[home_ina_23_df[\"home_score\"] == home_ina_23_df[\"away_score\"]]\n",
    "\n",
    "away_ina_23_df = ina_23_df[ina_23_df[\"away_team\"] == \"Indonesia\"]\n",
    "win_away_ina_23_df = away_ina_23_df[away_ina_23_df[\"home_score\"] < away_ina_23_df[\"away_score\"]]\n",
    "lose_away_ina_23_df = away_ina_23_df[away_ina_23_df[\"home_score\"] > away_ina_23_df[\"away_score\"]]\n",
    "draw_away_ina_23_df = away_ina_23_df[away_ina_23_df[\"home_score\"] == away_ina_23_df[\"away_score\"]]\n",
    "\n",
    "win_ina_23_df = pd.concat([win_home_ina_23_df, win_away_ina_23_df]).sort_values(by=\"date\")\n",
    "win_ina_23_df[\"year\"] = 2023\n",
    "win_ina_23_df[\"result_ina\"] = \"Menang\"\n",
    "\n",
    "lose_ina_23_df = pd.concat([lose_home_ina_23_df, lose_away_ina_23_df]).sort_values(by=\"date\")\n",
    "lose_ina_23_df[\"year\"] = 2023\n",
    "lose_ina_23_df[\"result_ina\"] = \"Kalah\"\n",
    "\n",
    "draw_ina_23_df = pd.concat([draw_home_ina_23_df, draw_away_ina_23_df]).sort_values(by=\"date\")\n",
    "draw_ina_23_df[\"year\"] = 2023\n",
    "draw_ina_23_df[\"result_ina\"] = \"Imbang\"\n",
    "\n",
    "matches_ina_23_df = pd.concat([win_ina_23_df, lose_ina_23_df, draw_ina_23_df]).sort_values(by=\"date\")\n",
    "matches_ina_23_df"
   ]
  },
  {
   "cell_type": "code",
   "execution_count": 103,
   "id": "71edd433-53c1-44d1-8e77-cfb5a4d95a1a",
   "metadata": {},
   "outputs": [
    {
     "data": {
      "text/html": [
       "<div>\n",
       "<style scoped>\n",
       "    .dataframe tbody tr th:only-of-type {\n",
       "        vertical-align: middle;\n",
       "    }\n",
       "\n",
       "    .dataframe tbody tr th {\n",
       "        vertical-align: top;\n",
       "    }\n",
       "\n",
       "    .dataframe thead th {\n",
       "        text-align: right;\n",
       "    }\n",
       "</style>\n",
       "<table border=\"1\" class=\"dataframe\">\n",
       "  <thead>\n",
       "    <tr style=\"text-align: right;\">\n",
       "      <th></th>\n",
       "      <th>date</th>\n",
       "      <th>home_team</th>\n",
       "      <th>away_team</th>\n",
       "      <th>home_score</th>\n",
       "      <th>away_score</th>\n",
       "      <th>tournament</th>\n",
       "      <th>city</th>\n",
       "      <th>country</th>\n",
       "      <th>neutral</th>\n",
       "      <th>year</th>\n",
       "      <th>result_ina</th>\n",
       "    </tr>\n",
       "  </thead>\n",
       "  <tbody>\n",
       "    <tr>\n",
       "      <th>46795</th>\n",
       "      <td>2024-01-02</td>\n",
       "      <td>Indonesia</td>\n",
       "      <td>Libya</td>\n",
       "      <td>0</td>\n",
       "      <td>4</td>\n",
       "      <td>Friendly</td>\n",
       "      <td>Antalya</td>\n",
       "      <td>Turkey</td>\n",
       "      <td>True</td>\n",
       "      <td>2024</td>\n",
       "      <td>Kalah</td>\n",
       "    </tr>\n",
       "    <tr>\n",
       "      <th>46798</th>\n",
       "      <td>2024-01-05</td>\n",
       "      <td>Indonesia</td>\n",
       "      <td>Libya</td>\n",
       "      <td>1</td>\n",
       "      <td>2</td>\n",
       "      <td>Friendly</td>\n",
       "      <td>Antalya</td>\n",
       "      <td>Turkey</td>\n",
       "      <td>True</td>\n",
       "      <td>2024</td>\n",
       "      <td>Kalah</td>\n",
       "    </tr>\n",
       "    <tr>\n",
       "      <th>46824</th>\n",
       "      <td>2024-01-09</td>\n",
       "      <td>Indonesia</td>\n",
       "      <td>Iran</td>\n",
       "      <td>0</td>\n",
       "      <td>5</td>\n",
       "      <td>Friendly</td>\n",
       "      <td>Al Rayyan</td>\n",
       "      <td>Qatar</td>\n",
       "      <td>True</td>\n",
       "      <td>2024</td>\n",
       "      <td>Kalah</td>\n",
       "    </tr>\n",
       "    <tr>\n",
       "      <th>46845</th>\n",
       "      <td>2024-01-15</td>\n",
       "      <td>Indonesia</td>\n",
       "      <td>Iraq</td>\n",
       "      <td>1</td>\n",
       "      <td>3</td>\n",
       "      <td>AFC Asian Cup</td>\n",
       "      <td>Doha</td>\n",
       "      <td>Qatar</td>\n",
       "      <td>True</td>\n",
       "      <td>2024</td>\n",
       "      <td>Kalah</td>\n",
       "    </tr>\n",
       "    <tr>\n",
       "      <th>46869</th>\n",
       "      <td>2024-01-19</td>\n",
       "      <td>Vietnam</td>\n",
       "      <td>Indonesia</td>\n",
       "      <td>0</td>\n",
       "      <td>1</td>\n",
       "      <td>AFC Asian Cup</td>\n",
       "      <td>Doha</td>\n",
       "      <td>Qatar</td>\n",
       "      <td>True</td>\n",
       "      <td>2024</td>\n",
       "      <td>Menang</td>\n",
       "    </tr>\n",
       "    <tr>\n",
       "      <th>46900</th>\n",
       "      <td>2024-01-24</td>\n",
       "      <td>Japan</td>\n",
       "      <td>Indonesia</td>\n",
       "      <td>3</td>\n",
       "      <td>1</td>\n",
       "      <td>AFC Asian Cup</td>\n",
       "      <td>Doha</td>\n",
       "      <td>Qatar</td>\n",
       "      <td>True</td>\n",
       "      <td>2024</td>\n",
       "      <td>Kalah</td>\n",
       "    </tr>\n",
       "    <tr>\n",
       "      <th>46911</th>\n",
       "      <td>2024-01-28</td>\n",
       "      <td>Australia</td>\n",
       "      <td>Indonesia</td>\n",
       "      <td>4</td>\n",
       "      <td>0</td>\n",
       "      <td>AFC Asian Cup</td>\n",
       "      <td>Doha</td>\n",
       "      <td>Qatar</td>\n",
       "      <td>True</td>\n",
       "      <td>2024</td>\n",
       "      <td>Kalah</td>\n",
       "    </tr>\n",
       "    <tr>\n",
       "      <th>46972</th>\n",
       "      <td>2024-03-21</td>\n",
       "      <td>Indonesia</td>\n",
       "      <td>Vietnam</td>\n",
       "      <td>1</td>\n",
       "      <td>0</td>\n",
       "      <td>FIFA World Cup qualification</td>\n",
       "      <td>Jakarta</td>\n",
       "      <td>Indonesia</td>\n",
       "      <td>False</td>\n",
       "      <td>2024</td>\n",
       "      <td>Menang</td>\n",
       "    </tr>\n",
       "    <tr>\n",
       "      <th>47069</th>\n",
       "      <td>2024-03-26</td>\n",
       "      <td>Vietnam</td>\n",
       "      <td>Indonesia</td>\n",
       "      <td>0</td>\n",
       "      <td>3</td>\n",
       "      <td>FIFA World Cup qualification</td>\n",
       "      <td>Hanoi</td>\n",
       "      <td>Vietnam</td>\n",
       "      <td>False</td>\n",
       "      <td>2024</td>\n",
       "      <td>Menang</td>\n",
       "    </tr>\n",
       "    <tr>\n",
       "      <th>47114</th>\n",
       "      <td>2024-06-02</td>\n",
       "      <td>Indonesia</td>\n",
       "      <td>Tanzania</td>\n",
       "      <td>0</td>\n",
       "      <td>0</td>\n",
       "      <td>Friendly</td>\n",
       "      <td>Jakarta</td>\n",
       "      <td>Indonesia</td>\n",
       "      <td>False</td>\n",
       "      <td>2024</td>\n",
       "      <td>Imbang</td>\n",
       "    </tr>\n",
       "    <tr>\n",
       "      <th>47166</th>\n",
       "      <td>2024-06-06</td>\n",
       "      <td>Indonesia</td>\n",
       "      <td>Iraq</td>\n",
       "      <td>0</td>\n",
       "      <td>2</td>\n",
       "      <td>FIFA World Cup qualification</td>\n",
       "      <td>Jakarta</td>\n",
       "      <td>Indonesia</td>\n",
       "      <td>False</td>\n",
       "      <td>2024</td>\n",
       "      <td>Kalah</td>\n",
       "    </tr>\n",
       "    <tr>\n",
       "      <th>47284</th>\n",
       "      <td>2024-06-11</td>\n",
       "      <td>Indonesia</td>\n",
       "      <td>Philippines</td>\n",
       "      <td>2</td>\n",
       "      <td>0</td>\n",
       "      <td>FIFA World Cup qualification</td>\n",
       "      <td>Jakarta</td>\n",
       "      <td>Indonesia</td>\n",
       "      <td>False</td>\n",
       "      <td>2024</td>\n",
       "      <td>Menang</td>\n",
       "    </tr>\n",
       "    <tr>\n",
       "      <th>47454</th>\n",
       "      <td>2024-09-05</td>\n",
       "      <td>Saudi Arabia</td>\n",
       "      <td>Indonesia</td>\n",
       "      <td>1</td>\n",
       "      <td>1</td>\n",
       "      <td>FIFA World Cup qualification</td>\n",
       "      <td>Jeddah</td>\n",
       "      <td>Saudi Arabia</td>\n",
       "      <td>False</td>\n",
       "      <td>2024</td>\n",
       "      <td>Imbang</td>\n",
       "    </tr>\n",
       "    <tr>\n",
       "      <th>47596</th>\n",
       "      <td>2024-09-10</td>\n",
       "      <td>Indonesia</td>\n",
       "      <td>Australia</td>\n",
       "      <td>0</td>\n",
       "      <td>0</td>\n",
       "      <td>FIFA World Cup qualification</td>\n",
       "      <td>Jakarta</td>\n",
       "      <td>Indonesia</td>\n",
       "      <td>False</td>\n",
       "      <td>2024</td>\n",
       "      <td>Imbang</td>\n",
       "    </tr>\n",
       "    <tr>\n",
       "      <th>47636</th>\n",
       "      <td>2024-10-10</td>\n",
       "      <td>Bahrain</td>\n",
       "      <td>Indonesia</td>\n",
       "      <td>2</td>\n",
       "      <td>2</td>\n",
       "      <td>FIFA World Cup qualification</td>\n",
       "      <td>Riffa</td>\n",
       "      <td>Bahrain</td>\n",
       "      <td>False</td>\n",
       "      <td>2024</td>\n",
       "      <td>Imbang</td>\n",
       "    </tr>\n",
       "    <tr>\n",
       "      <th>47775</th>\n",
       "      <td>2024-10-15</td>\n",
       "      <td>China PR</td>\n",
       "      <td>Indonesia</td>\n",
       "      <td>2</td>\n",
       "      <td>1</td>\n",
       "      <td>FIFA World Cup qualification</td>\n",
       "      <td>Qingdao</td>\n",
       "      <td>China PR</td>\n",
       "      <td>False</td>\n",
       "      <td>2024</td>\n",
       "      <td>Kalah</td>\n",
       "    </tr>\n",
       "    <tr>\n",
       "      <th>47832</th>\n",
       "      <td>2024-11-15</td>\n",
       "      <td>Indonesia</td>\n",
       "      <td>Japan</td>\n",
       "      <td>0</td>\n",
       "      <td>4</td>\n",
       "      <td>FIFA World Cup qualification</td>\n",
       "      <td>Jakarta</td>\n",
       "      <td>Indonesia</td>\n",
       "      <td>False</td>\n",
       "      <td>2024</td>\n",
       "      <td>Kalah</td>\n",
       "    </tr>\n",
       "    <tr>\n",
       "      <th>47915</th>\n",
       "      <td>2024-11-19</td>\n",
       "      <td>Indonesia</td>\n",
       "      <td>Saudi Arabia</td>\n",
       "      <td>2</td>\n",
       "      <td>0</td>\n",
       "      <td>FIFA World Cup qualification</td>\n",
       "      <td>Jakarta</td>\n",
       "      <td>Indonesia</td>\n",
       "      <td>False</td>\n",
       "      <td>2024</td>\n",
       "      <td>Menang</td>\n",
       "    </tr>\n",
       "  </tbody>\n",
       "</table>\n",
       "</div>"
      ],
      "text/plain": [
       "            date     home_team     away_team  home_score  away_score  \\\n",
       "46795 2024-01-02     Indonesia         Libya           0           4   \n",
       "46798 2024-01-05     Indonesia         Libya           1           2   \n",
       "46824 2024-01-09     Indonesia          Iran           0           5   \n",
       "46845 2024-01-15     Indonesia          Iraq           1           3   \n",
       "46869 2024-01-19       Vietnam     Indonesia           0           1   \n",
       "46900 2024-01-24         Japan     Indonesia           3           1   \n",
       "46911 2024-01-28     Australia     Indonesia           4           0   \n",
       "46972 2024-03-21     Indonesia       Vietnam           1           0   \n",
       "47069 2024-03-26       Vietnam     Indonesia           0           3   \n",
       "47114 2024-06-02     Indonesia      Tanzania           0           0   \n",
       "47166 2024-06-06     Indonesia          Iraq           0           2   \n",
       "47284 2024-06-11     Indonesia   Philippines           2           0   \n",
       "47454 2024-09-05  Saudi Arabia     Indonesia           1           1   \n",
       "47596 2024-09-10     Indonesia     Australia           0           0   \n",
       "47636 2024-10-10       Bahrain     Indonesia           2           2   \n",
       "47775 2024-10-15      China PR     Indonesia           2           1   \n",
       "47832 2024-11-15     Indonesia         Japan           0           4   \n",
       "47915 2024-11-19     Indonesia  Saudi Arabia           2           0   \n",
       "\n",
       "                         tournament       city       country  neutral  year  \\\n",
       "46795                      Friendly    Antalya        Turkey     True  2024   \n",
       "46798                      Friendly    Antalya        Turkey     True  2024   \n",
       "46824                      Friendly  Al Rayyan         Qatar     True  2024   \n",
       "46845                 AFC Asian Cup       Doha         Qatar     True  2024   \n",
       "46869                 AFC Asian Cup       Doha         Qatar     True  2024   \n",
       "46900                 AFC Asian Cup       Doha         Qatar     True  2024   \n",
       "46911                 AFC Asian Cup       Doha         Qatar     True  2024   \n",
       "46972  FIFA World Cup qualification    Jakarta     Indonesia    False  2024   \n",
       "47069  FIFA World Cup qualification      Hanoi       Vietnam    False  2024   \n",
       "47114                      Friendly    Jakarta     Indonesia    False  2024   \n",
       "47166  FIFA World Cup qualification    Jakarta     Indonesia    False  2024   \n",
       "47284  FIFA World Cup qualification    Jakarta     Indonesia    False  2024   \n",
       "47454  FIFA World Cup qualification     Jeddah  Saudi Arabia    False  2024   \n",
       "47596  FIFA World Cup qualification    Jakarta     Indonesia    False  2024   \n",
       "47636  FIFA World Cup qualification      Riffa       Bahrain    False  2024   \n",
       "47775  FIFA World Cup qualification    Qingdao      China PR    False  2024   \n",
       "47832  FIFA World Cup qualification    Jakarta     Indonesia    False  2024   \n",
       "47915  FIFA World Cup qualification    Jakarta     Indonesia    False  2024   \n",
       "\n",
       "      result_ina  \n",
       "46795      Kalah  \n",
       "46798      Kalah  \n",
       "46824      Kalah  \n",
       "46845      Kalah  \n",
       "46869     Menang  \n",
       "46900      Kalah  \n",
       "46911      Kalah  \n",
       "46972     Menang  \n",
       "47069     Menang  \n",
       "47114     Imbang  \n",
       "47166      Kalah  \n",
       "47284     Menang  \n",
       "47454     Imbang  \n",
       "47596     Imbang  \n",
       "47636     Imbang  \n",
       "47775      Kalah  \n",
       "47832      Kalah  \n",
       "47915     Menang  "
      ]
     },
     "execution_count": 103,
     "metadata": {},
     "output_type": "execute_result"
    }
   ],
   "source": [
    "ina_24_df = ina_df[ina_df[\"date\"].dt.year == 2024]\n",
    "\n",
    "home_ina_24_df = ina_24_df[ina_24_df[\"home_team\"] == \"Indonesia\"]\n",
    "win_home_ina_24_df = home_ina_24_df[home_ina_24_df[\"home_score\"] > home_ina_24_df[\"away_score\"]]\n",
    "lose_home_ina_24_df = home_ina_24_df[home_ina_24_df[\"home_score\"] < home_ina_24_df[\"away_score\"]]\n",
    "draw_home_ina_24_df = home_ina_24_df[home_ina_24_df[\"home_score\"] == home_ina_24_df[\"away_score\"]]\n",
    "\n",
    "away_ina_24_df = ina_24_df[ina_24_df[\"away_team\"] == \"Indonesia\"]\n",
    "win_away_ina_24_df = away_ina_24_df[away_ina_24_df[\"home_score\"] < away_ina_24_df[\"away_score\"]]\n",
    "lose_away_ina_24_df = away_ina_24_df[away_ina_24_df[\"home_score\"] > away_ina_24_df[\"away_score\"]]\n",
    "draw_away_ina_24_df = away_ina_24_df[away_ina_24_df[\"home_score\"] == away_ina_24_df[\"away_score\"]]\n",
    "\n",
    "win_ina_24_df = pd.concat([win_home_ina_24_df, win_away_ina_24_df]).sort_values(by=\"date\")\n",
    "win_ina_24_df[\"year\"] = 2024\n",
    "win_ina_24_df[\"result_ina\"] = \"Menang\"\n",
    "\n",
    "lose_ina_24_df = pd.concat([lose_home_ina_24_df, lose_away_ina_24_df]).sort_values(by=\"date\")\n",
    "lose_ina_24_df[\"year\"] = 2024\n",
    "lose_ina_24_df[\"result_ina\"] = \"Kalah\"\n",
    "\n",
    "draw_ina_24_df = pd.concat([draw_home_ina_24_df, draw_away_ina_24_df]).sort_values(by=\"date\")\n",
    "draw_ina_24_df[\"year\"] = 2024\n",
    "draw_ina_24_df[\"result_ina\"] = \"Imbang\"\n",
    "\n",
    "matches_ina_24_df = pd.concat([win_ina_24_df, lose_ina_24_df, draw_ina_24_df]).sort_values(by=\"date\")\n",
    "matches_ina_24_df"
   ]
  },
  {
   "cell_type": "code",
   "execution_count": 105,
   "id": "3061efa8-5d98-4db9-abea-2d440797098a",
   "metadata": {},
   "outputs": [],
   "source": [
    "era_sty_df = pd.concat([matches_ina_20_df, matches_ina_21_df,\n",
    "                       matches_ina_22_df, matches_ina_23_df, matches_ina_24_df]).sort_values(by=\"date\")"
   ]
  },
  {
   "cell_type": "code",
   "execution_count": 107,
   "id": "aceda39d-887a-4b84-8332-3c222aafcec8",
   "metadata": {},
   "outputs": [
    {
     "data": {
      "text/plain": [
       "year  result_ina\n",
       "2021  Imbang        3\n",
       "      Kalah         6\n",
       "      Menang        7\n",
       "2022  Imbang        3\n",
       "      Kalah         1\n",
       "      Menang        8\n",
       "2023  Imbang        4\n",
       "      Kalah         3\n",
       "      Menang        5\n",
       "2024  Imbang        4\n",
       "      Kalah         9\n",
       "      Menang        5\n",
       "Name: tournament, dtype: int64"
      ]
     },
     "execution_count": 107,
     "metadata": {},
     "output_type": "execute_result"
    }
   ],
   "source": [
    "era_sty_per_year = era_sty_df.groupby([\"year\", \"result_ina\"]).count()\n",
    "era_sty_per_year[\"tournament\"]"
   ]
  },
  {
   "cell_type": "code",
   "execution_count": 179,
   "id": "006e596c-1715-4763-9648-022b3ec78a27",
   "metadata": {},
   "outputs": [
    {
     "data": {
      "image/png": "[encoded data removed]",
      "text/plain": [
       "<Figure size 605.5x500 with 1 Axes>"
      ]
     },
     "metadata": {},
     "output_type": "display_data"
    }
   ],
   "source": [
    "g = sns.catplot(\n",
    "    data=era_sty_per_year, kind=\"bar\",\n",
    "    x=\"year\", y=era_sty_per_year[\"tournament\"], hue=\"result_ina\",\n",
    "    palette=sns.color_palette(['gold', 'tomato', 'cornflowerblue']), height=5\n",
    ")\n",
    "for ax in g.axes.ravel():\n",
    "    for c in ax.containers:\n",
    "        ax.bar_label(c, label_type='edge')\n",
    "\n",
    "plt.title(\"Timnas Indonesia Era Coach Shin Tae Yong\")\n",
    "plt.xlabel(\"Tahun\")\n",
    "plt.ylabel(\"Banyak Pertandingan\")\n",
    "plt.show()"
   ]
  },
  {
   "cell_type": "code",
   "execution_count": null,
   "id": "bce9ccaa-5327-4d23-aa13-7da908a7c2c5",
   "metadata": {},
   "outputs": [],
   "source": []
  }
 ],
 "metadata": {
  "kernelspec": {
   "display_name": "Python 3 (ipykernel)",
   "language": "python",
   "name": "python3"
  },
  "language_info": {
   "codemirror_mode": {
    "name": "ipython",
    "version": 3
   },
   "file_extension": ".py",
   "mimetype": "text/x-python",
   "name": "python",
   "nbconvert_exporter": "python",
   "pygments_lexer": "ipython3",
   "version": "3.12.4"
  }
 },
 "nbformat": 4,
 "nbformat_minor": 5
}
